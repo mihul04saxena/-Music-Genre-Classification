{
  "nbformat": 4,
  "nbformat_minor": 0,
  "metadata": {
    "colab": {
      "provenance": []
    },
    "kernelspec": {
      "name": "python3",
      "display_name": "Python 3"
    },
    "language_info": {
      "name": "python"
    }
  },
  "cells": [
    {
      "cell_type": "markdown",
      "source": [
        "# **Music-Genre Classification using KNN** (K-Nearest Neighbour) **Algorithm**"
      ],
      "metadata": {
        "id": "eJ1WkD2dpXEx"
      }
    },
    {
      "cell_type": "code",
      "source": [
        "from google.colab import drive\n",
        "drive.mount('/content/drive')"
      ],
      "metadata": {
        "id": "47oKy2OC_0hK",
        "colab": {
          "base_uri": "https://localhost:8080/"
        },
        "outputId": "936a9bf4-5fbd-47ef-f419-491c0f06a553"
      },
      "execution_count": null,
      "outputs": [
        {
          "output_type": "stream",
          "name": "stdout",
          "text": [
            "Drive already mounted at /content/drive; to attempt to forcibly remount, call drive.mount(\"/content/drive\", force_remount=True).\n"
          ]
        }
      ]
    },
    {
      "cell_type": "code",
      "source": [
        "import os\n",
        "Root = \"/content/drive/MyDrive\"\n",
        "os.chdir(Root)"
      ],
      "metadata": {
        "id": "MChtQeZSNBeJ"
      },
      "execution_count": null,
      "outputs": []
    },
    {
      "cell_type": "markdown",
      "source": [
        "## [Dataset](https://https://www.kaggle.com/datasets/andradaolteanu/gtzan-dataset-music-genre-classification)\n"
      ],
      "metadata": {
        "id": "VBGDt73YTCtR"
      }
    },
    {
      "cell_type": "markdown",
      "source": [
        "## **Introduction to libraries and modules used:**\n",
        "\n",
        "**Pandas:** The `pandas` library is a popular open-source data manipulation and analysis library for the Python programming language. It provides data structures for efficiently storing and manipulating large datasets, as well as tools for working with structured data.\n",
        "\n",
        "**NumPy:** `NumPy` (Numerical Python) is another fundamental library in the Python ecosystem, and it is primarily focused on numerical operations and efficient manipulation of large arrays and matrices.\n",
        "\n",
        "**IPython.display:** The `IPython.display` module provides a set of functions for displaying rich content in the Jupyter Notebook and other IPython interactive environments. It's part of the IPython interactive computing ecosystem and is often used to enhance the display of output in Jupyter notebooks.\n",
        "\n",
        "**Librosa:** `Librosa` is a Python package for music and audio analysis. It provides tools for various tasks related to audio processing and feature extraction, making it a valuable library for tasks such as music information retrieval, audio classification, and signal processing.\n",
        "\n",
        "**Matplotlib:** `Matplotlib` is a popular Python library for creating static, animated, and interactive visualizations in Python."
      ],
      "metadata": {
        "id": "f7-B6NU9p9Ha"
      }
    },
    {
      "cell_type": "code",
      "source": [
        "import pandas as pd\n",
        "import numpy as np\n",
        "import os\n",
        "import IPython.display as ipd\n",
        "import librosa\n",
        "import librosa.display\n",
        "import matplotlib.pyplot as plt\n",
        "%matplotlib inline"
      ],
      "metadata": {
        "id": "sKUz4nKVNm3b"
      },
      "execution_count": null,
      "outputs": []
    },
    {
      "cell_type": "markdown",
      "source": [
        "Accessing the directory and metadata of music files."
      ],
      "metadata": {
        "id": "KwKezu6DrG6D"
      }
    },
    {
      "cell_type": "code",
      "source": [
        "audio_dataset_path= '/content/drive/MyDrive/Data/genres_original'\n",
        "metadata=pd.read_csv('/content/drive/MyDrive/Data/features_30_sec.csv')\n",
        "metadata.head()"
      ],
      "metadata": {
        "id": "bYKw26MjRYgX",
        "colab": {
          "base_uri": "https://localhost:8080/",
          "height": 256
        },
        "outputId": "335414f1-46a3-45c9-b032-0538e8f18cb6"
      },
      "execution_count": null,
      "outputs": [
        {
          "output_type": "execute_result",
          "data": {
            "text/plain": [
              "          filename  length  chroma_stft_mean  chroma_stft_var  rms_mean  \\\n",
              "0  blues.00000.wav  661794          0.350088         0.088757  0.130228   \n",
              "1  blues.00001.wav  661794          0.340914         0.094980  0.095948   \n",
              "2  blues.00002.wav  661794          0.363637         0.085275  0.175570   \n",
              "3  blues.00003.wav  661794          0.404785         0.093999  0.141093   \n",
              "4  blues.00004.wav  661794          0.308526         0.087841  0.091529   \n",
              "\n",
              "    rms_var  spectral_centroid_mean  spectral_centroid_var  \\\n",
              "0  0.002827             1784.165850          129774.064525   \n",
              "1  0.002373             1530.176679          375850.073649   \n",
              "2  0.002746             1552.811865          156467.643368   \n",
              "3  0.006346             1070.106615          184355.942417   \n",
              "4  0.002303             1835.004266          343399.939274   \n",
              "\n",
              "   spectral_bandwidth_mean  spectral_bandwidth_var  ...  mfcc16_var  \\\n",
              "0              2002.449060            85882.761315  ...   52.420910   \n",
              "1              2039.036516           213843.755497  ...   55.356403   \n",
              "2              1747.702312            76254.192257  ...   40.598766   \n",
              "3              1596.412872           166441.494769  ...   44.427753   \n",
              "4              1748.172116            88445.209036  ...   86.099236   \n",
              "\n",
              "   mfcc17_mean  mfcc17_var  mfcc18_mean  mfcc18_var  mfcc19_mean  mfcc19_var  \\\n",
              "0    -1.690215   36.524071    -0.408979   41.597103    -2.303523   55.062923   \n",
              "1    -0.731125   60.314529     0.295073   48.120598    -0.283518   51.106190   \n",
              "2    -7.729093   47.639427    -1.816407   52.382141    -3.439720   46.639660   \n",
              "3    -3.319597   50.206673     0.636965   37.319130    -0.619121   37.259739   \n",
              "4    -5.454034   75.269707    -0.916874   53.613918    -4.404827   62.910812   \n",
              "\n",
              "   mfcc20_mean  mfcc20_var  label  \n",
              "0     1.221291   46.936035  blues  \n",
              "1     0.531217   45.786282  blues  \n",
              "2    -2.231258   30.573025  blues  \n",
              "3    -3.407448   31.949339  blues  \n",
              "4   -11.703234   55.195160  blues  \n",
              "\n",
              "[5 rows x 60 columns]"
            ],
            "text/html": [
              "\n",
              "  <div id=\"df-595a13f6-d74a-415e-9bf8-a30f94dbf43a\" class=\"colab-df-container\">\n",
              "    <div>\n",
              "<style scoped>\n",
              "    .dataframe tbody tr th:only-of-type {\n",
              "        vertical-align: middle;\n",
              "    }\n",
              "\n",
              "    .dataframe tbody tr th {\n",
              "        vertical-align: top;\n",
              "    }\n",
              "\n",
              "    .dataframe thead th {\n",
              "        text-align: right;\n",
              "    }\n",
              "</style>\n",
              "<table border=\"1\" class=\"dataframe\">\n",
              "  <thead>\n",
              "    <tr style=\"text-align: right;\">\n",
              "      <th></th>\n",
              "      <th>filename</th>\n",
              "      <th>length</th>\n",
              "      <th>chroma_stft_mean</th>\n",
              "      <th>chroma_stft_var</th>\n",
              "      <th>rms_mean</th>\n",
              "      <th>rms_var</th>\n",
              "      <th>spectral_centroid_mean</th>\n",
              "      <th>spectral_centroid_var</th>\n",
              "      <th>spectral_bandwidth_mean</th>\n",
              "      <th>spectral_bandwidth_var</th>\n",
              "      <th>...</th>\n",
              "      <th>mfcc16_var</th>\n",
              "      <th>mfcc17_mean</th>\n",
              "      <th>mfcc17_var</th>\n",
              "      <th>mfcc18_mean</th>\n",
              "      <th>mfcc18_var</th>\n",
              "      <th>mfcc19_mean</th>\n",
              "      <th>mfcc19_var</th>\n",
              "      <th>mfcc20_mean</th>\n",
              "      <th>mfcc20_var</th>\n",
              "      <th>label</th>\n",
              "    </tr>\n",
              "  </thead>\n",
              "  <tbody>\n",
              "    <tr>\n",
              "      <th>0</th>\n",
              "      <td>blues.00000.wav</td>\n",
              "      <td>661794</td>\n",
              "      <td>0.350088</td>\n",
              "      <td>0.088757</td>\n",
              "      <td>0.130228</td>\n",
              "      <td>0.002827</td>\n",
              "      <td>1784.165850</td>\n",
              "      <td>129774.064525</td>\n",
              "      <td>2002.449060</td>\n",
              "      <td>85882.761315</td>\n",
              "      <td>...</td>\n",
              "      <td>52.420910</td>\n",
              "      <td>-1.690215</td>\n",
              "      <td>36.524071</td>\n",
              "      <td>-0.408979</td>\n",
              "      <td>41.597103</td>\n",
              "      <td>-2.303523</td>\n",
              "      <td>55.062923</td>\n",
              "      <td>1.221291</td>\n",
              "      <td>46.936035</td>\n",
              "      <td>blues</td>\n",
              "    </tr>\n",
              "    <tr>\n",
              "      <th>1</th>\n",
              "      <td>blues.00001.wav</td>\n",
              "      <td>661794</td>\n",
              "      <td>0.340914</td>\n",
              "      <td>0.094980</td>\n",
              "      <td>0.095948</td>\n",
              "      <td>0.002373</td>\n",
              "      <td>1530.176679</td>\n",
              "      <td>375850.073649</td>\n",
              "      <td>2039.036516</td>\n",
              "      <td>213843.755497</td>\n",
              "      <td>...</td>\n",
              "      <td>55.356403</td>\n",
              "      <td>-0.731125</td>\n",
              "      <td>60.314529</td>\n",
              "      <td>0.295073</td>\n",
              "      <td>48.120598</td>\n",
              "      <td>-0.283518</td>\n",
              "      <td>51.106190</td>\n",
              "      <td>0.531217</td>\n",
              "      <td>45.786282</td>\n",
              "      <td>blues</td>\n",
              "    </tr>\n",
              "    <tr>\n",
              "      <th>2</th>\n",
              "      <td>blues.00002.wav</td>\n",
              "      <td>661794</td>\n",
              "      <td>0.363637</td>\n",
              "      <td>0.085275</td>\n",
              "      <td>0.175570</td>\n",
              "      <td>0.002746</td>\n",
              "      <td>1552.811865</td>\n",
              "      <td>156467.643368</td>\n",
              "      <td>1747.702312</td>\n",
              "      <td>76254.192257</td>\n",
              "      <td>...</td>\n",
              "      <td>40.598766</td>\n",
              "      <td>-7.729093</td>\n",
              "      <td>47.639427</td>\n",
              "      <td>-1.816407</td>\n",
              "      <td>52.382141</td>\n",
              "      <td>-3.439720</td>\n",
              "      <td>46.639660</td>\n",
              "      <td>-2.231258</td>\n",
              "      <td>30.573025</td>\n",
              "      <td>blues</td>\n",
              "    </tr>\n",
              "    <tr>\n",
              "      <th>3</th>\n",
              "      <td>blues.00003.wav</td>\n",
              "      <td>661794</td>\n",
              "      <td>0.404785</td>\n",
              "      <td>0.093999</td>\n",
              "      <td>0.141093</td>\n",
              "      <td>0.006346</td>\n",
              "      <td>1070.106615</td>\n",
              "      <td>184355.942417</td>\n",
              "      <td>1596.412872</td>\n",
              "      <td>166441.494769</td>\n",
              "      <td>...</td>\n",
              "      <td>44.427753</td>\n",
              "      <td>-3.319597</td>\n",
              "      <td>50.206673</td>\n",
              "      <td>0.636965</td>\n",
              "      <td>37.319130</td>\n",
              "      <td>-0.619121</td>\n",
              "      <td>37.259739</td>\n",
              "      <td>-3.407448</td>\n",
              "      <td>31.949339</td>\n",
              "      <td>blues</td>\n",
              "    </tr>\n",
              "    <tr>\n",
              "      <th>4</th>\n",
              "      <td>blues.00004.wav</td>\n",
              "      <td>661794</td>\n",
              "      <td>0.308526</td>\n",
              "      <td>0.087841</td>\n",
              "      <td>0.091529</td>\n",
              "      <td>0.002303</td>\n",
              "      <td>1835.004266</td>\n",
              "      <td>343399.939274</td>\n",
              "      <td>1748.172116</td>\n",
              "      <td>88445.209036</td>\n",
              "      <td>...</td>\n",
              "      <td>86.099236</td>\n",
              "      <td>-5.454034</td>\n",
              "      <td>75.269707</td>\n",
              "      <td>-0.916874</td>\n",
              "      <td>53.613918</td>\n",
              "      <td>-4.404827</td>\n",
              "      <td>62.910812</td>\n",
              "      <td>-11.703234</td>\n",
              "      <td>55.195160</td>\n",
              "      <td>blues</td>\n",
              "    </tr>\n",
              "  </tbody>\n",
              "</table>\n",
              "<p>5 rows × 60 columns</p>\n",
              "</div>\n",
              "    <div class=\"colab-df-buttons\">\n",
              "\n",
              "  <div class=\"colab-df-container\">\n",
              "    <button class=\"colab-df-convert\" onclick=\"convertToInteractive('df-595a13f6-d74a-415e-9bf8-a30f94dbf43a')\"\n",
              "            title=\"Convert this dataframe to an interactive table.\"\n",
              "            style=\"display:none;\">\n",
              "\n",
              "  <svg xmlns=\"http://www.w3.org/2000/svg\" height=\"24px\" viewBox=\"0 -960 960 960\">\n",
              "    <path d=\"M120-120v-720h720v720H120Zm60-500h600v-160H180v160Zm220 220h160v-160H400v160Zm0 220h160v-160H400v160ZM180-400h160v-160H180v160Zm440 0h160v-160H620v160ZM180-180h160v-160H180v160Zm440 0h160v-160H620v160Z\"/>\n",
              "  </svg>\n",
              "    </button>\n",
              "\n",
              "  <style>\n",
              "    .colab-df-container {\n",
              "      display:flex;\n",
              "      gap: 12px;\n",
              "    }\n",
              "\n",
              "    .colab-df-convert {\n",
              "      background-color: #E8F0FE;\n",
              "      border: none;\n",
              "      border-radius: 50%;\n",
              "      cursor: pointer;\n",
              "      display: none;\n",
              "      fill: #1967D2;\n",
              "      height: 32px;\n",
              "      padding: 0 0 0 0;\n",
              "      width: 32px;\n",
              "    }\n",
              "\n",
              "    .colab-df-convert:hover {\n",
              "      background-color: #E2EBFA;\n",
              "      box-shadow: 0px 1px 2px rgba(60, 64, 67, 0.3), 0px 1px 3px 1px rgba(60, 64, 67, 0.15);\n",
              "      fill: #174EA6;\n",
              "    }\n",
              "\n",
              "    .colab-df-buttons div {\n",
              "      margin-bottom: 4px;\n",
              "    }\n",
              "\n",
              "    [theme=dark] .colab-df-convert {\n",
              "      background-color: #3B4455;\n",
              "      fill: #D2E3FC;\n",
              "    }\n",
              "\n",
              "    [theme=dark] .colab-df-convert:hover {\n",
              "      background-color: #434B5C;\n",
              "      box-shadow: 0px 1px 3px 1px rgba(0, 0, 0, 0.15);\n",
              "      filter: drop-shadow(0px 1px 2px rgba(0, 0, 0, 0.3));\n",
              "      fill: #FFFFFF;\n",
              "    }\n",
              "  </style>\n",
              "\n",
              "    <script>\n",
              "      const buttonEl =\n",
              "        document.querySelector('#df-595a13f6-d74a-415e-9bf8-a30f94dbf43a button.colab-df-convert');\n",
              "      buttonEl.style.display =\n",
              "        google.colab.kernel.accessAllowed ? 'block' : 'none';\n",
              "\n",
              "      async function convertToInteractive(key) {\n",
              "        const element = document.querySelector('#df-595a13f6-d74a-415e-9bf8-a30f94dbf43a');\n",
              "        const dataTable =\n",
              "          await google.colab.kernel.invokeFunction('convertToInteractive',\n",
              "                                                    [key], {});\n",
              "        if (!dataTable) return;\n",
              "\n",
              "        const docLinkHtml = 'Like what you see? Visit the ' +\n",
              "          '<a target=\"_blank\" href=https://colab.research.google.com/notebooks/data_table.ipynb>data table notebook</a>'\n",
              "          + ' to learn more about interactive tables.';\n",
              "        element.innerHTML = '';\n",
              "        dataTable['output_type'] = 'display_data';\n",
              "        await google.colab.output.renderOutput(dataTable, element);\n",
              "        const docLink = document.createElement('div');\n",
              "        docLink.innerHTML = docLinkHtml;\n",
              "        element.appendChild(docLink);\n",
              "      }\n",
              "    </script>\n",
              "  </div>\n",
              "\n",
              "\n",
              "<div id=\"df-18fa998b-65f3-49a7-b792-15aa3114ed0f\">\n",
              "  <button class=\"colab-df-quickchart\" onclick=\"quickchart('df-18fa998b-65f3-49a7-b792-15aa3114ed0f')\"\n",
              "            title=\"Suggest charts\"\n",
              "            style=\"display:none;\">\n",
              "\n",
              "<svg xmlns=\"http://www.w3.org/2000/svg\" height=\"24px\"viewBox=\"0 0 24 24\"\n",
              "     width=\"24px\">\n",
              "    <g>\n",
              "        <path d=\"M19 3H5c-1.1 0-2 .9-2 2v14c0 1.1.9 2 2 2h14c1.1 0 2-.9 2-2V5c0-1.1-.9-2-2-2zM9 17H7v-7h2v7zm4 0h-2V7h2v10zm4 0h-2v-4h2v4z\"/>\n",
              "    </g>\n",
              "</svg>\n",
              "  </button>\n",
              "\n",
              "<style>\n",
              "  .colab-df-quickchart {\n",
              "      --bg-color: #E8F0FE;\n",
              "      --fill-color: #1967D2;\n",
              "      --hover-bg-color: #E2EBFA;\n",
              "      --hover-fill-color: #174EA6;\n",
              "      --disabled-fill-color: #AAA;\n",
              "      --disabled-bg-color: #DDD;\n",
              "  }\n",
              "\n",
              "  [theme=dark] .colab-df-quickchart {\n",
              "      --bg-color: #3B4455;\n",
              "      --fill-color: #D2E3FC;\n",
              "      --hover-bg-color: #434B5C;\n",
              "      --hover-fill-color: #FFFFFF;\n",
              "      --disabled-bg-color: #3B4455;\n",
              "      --disabled-fill-color: #666;\n",
              "  }\n",
              "\n",
              "  .colab-df-quickchart {\n",
              "    background-color: var(--bg-color);\n",
              "    border: none;\n",
              "    border-radius: 50%;\n",
              "    cursor: pointer;\n",
              "    display: none;\n",
              "    fill: var(--fill-color);\n",
              "    height: 32px;\n",
              "    padding: 0;\n",
              "    width: 32px;\n",
              "  }\n",
              "\n",
              "  .colab-df-quickchart:hover {\n",
              "    background-color: var(--hover-bg-color);\n",
              "    box-shadow: 0 1px 2px rgba(60, 64, 67, 0.3), 0 1px 3px 1px rgba(60, 64, 67, 0.15);\n",
              "    fill: var(--button-hover-fill-color);\n",
              "  }\n",
              "\n",
              "  .colab-df-quickchart-complete:disabled,\n",
              "  .colab-df-quickchart-complete:disabled:hover {\n",
              "    background-color: var(--disabled-bg-color);\n",
              "    fill: var(--disabled-fill-color);\n",
              "    box-shadow: none;\n",
              "  }\n",
              "\n",
              "  .colab-df-spinner {\n",
              "    border: 2px solid var(--fill-color);\n",
              "    border-color: transparent;\n",
              "    border-bottom-color: var(--fill-color);\n",
              "    animation:\n",
              "      spin 1s steps(1) infinite;\n",
              "  }\n",
              "\n",
              "  @keyframes spin {\n",
              "    0% {\n",
              "      border-color: transparent;\n",
              "      border-bottom-color: var(--fill-color);\n",
              "      border-left-color: var(--fill-color);\n",
              "    }\n",
              "    20% {\n",
              "      border-color: transparent;\n",
              "      border-left-color: var(--fill-color);\n",
              "      border-top-color: var(--fill-color);\n",
              "    }\n",
              "    30% {\n",
              "      border-color: transparent;\n",
              "      border-left-color: var(--fill-color);\n",
              "      border-top-color: var(--fill-color);\n",
              "      border-right-color: var(--fill-color);\n",
              "    }\n",
              "    40% {\n",
              "      border-color: transparent;\n",
              "      border-right-color: var(--fill-color);\n",
              "      border-top-color: var(--fill-color);\n",
              "    }\n",
              "    60% {\n",
              "      border-color: transparent;\n",
              "      border-right-color: var(--fill-color);\n",
              "    }\n",
              "    80% {\n",
              "      border-color: transparent;\n",
              "      border-right-color: var(--fill-color);\n",
              "      border-bottom-color: var(--fill-color);\n",
              "    }\n",
              "    90% {\n",
              "      border-color: transparent;\n",
              "      border-bottom-color: var(--fill-color);\n",
              "    }\n",
              "  }\n",
              "</style>\n",
              "\n",
              "  <script>\n",
              "    async function quickchart(key) {\n",
              "      const quickchartButtonEl =\n",
              "        document.querySelector('#' + key + ' button');\n",
              "      quickchartButtonEl.disabled = true;  // To prevent multiple clicks.\n",
              "      quickchartButtonEl.classList.add('colab-df-spinner');\n",
              "      try {\n",
              "        const charts = await google.colab.kernel.invokeFunction(\n",
              "            'suggestCharts', [key], {});\n",
              "      } catch (error) {\n",
              "        console.error('Error during call to suggestCharts:', error);\n",
              "      }\n",
              "      quickchartButtonEl.classList.remove('colab-df-spinner');\n",
              "      quickchartButtonEl.classList.add('colab-df-quickchart-complete');\n",
              "    }\n",
              "    (() => {\n",
              "      let quickchartButtonEl =\n",
              "        document.querySelector('#df-18fa998b-65f3-49a7-b792-15aa3114ed0f button');\n",
              "      quickchartButtonEl.style.display =\n",
              "        google.colab.kernel.accessAllowed ? 'block' : 'none';\n",
              "    })();\n",
              "  </script>\n",
              "</div>\n",
              "\n",
              "    </div>\n",
              "  </div>\n"
            ]
          },
          "metadata": {},
          "execution_count": 4
        }
      ]
    },
    {
      "cell_type": "code",
      "source": [
        "sound, sample_rate = librosa.load(f'/content/drive/MyDrive/Data/genres_original/blues/blues.00001.wav')\n",
        "print(sound[:5])\n",
        "print(sample_rate)\n",
        "\n",
        "plt.figure(figsize=(16, 6))\n",
        "librosa.display.waveshow(y=sound, sr=sample_rate, color=\"darkred\")\n",
        "plt.title(\"Waveform of blues.00001.wav\", fontsize=12)\n",
        "plt.show()"
      ],
      "metadata": {
        "colab": {
          "base_uri": "https://localhost:8080/",
          "height": 479
        },
        "id": "mOGHzXT7GHFX",
        "outputId": "23cf4abb-6ec6-4e38-ccba-6d52c5d87eb4"
      },
      "execution_count": null,
      "outputs": [
        {
          "output_type": "stream",
          "name": "stdout",
          "text": [
            "[0.00341797 0.00430298 0.00137329 0.00128174 0.00177002]\n",
            "22050\n"
          ]
        },
        {
          "output_type": "display_data",
          "data": {
            "text/plain": [
              "<Figure size 1600x600 with 1 Axes>"
            ],
            "image/png": "[encoded data removed]"
          },
          "metadata": {}
        }
      ]
    },
    {
      "cell_type": "code",
      "source": [
        "pd.set_option('display.max_columns', 60)\n",
        "df = pd.read_csv(f'/content/drive/MyDrive/Data/features_30_sec.csv')\n",
        "df.head()\n",
        "print(df.shape)\n",
        "print(df.info())"
      ],
      "metadata": {
        "colab": {
          "base_uri": "https://localhost:8080/"
        },
        "id": "vpL760CHHWm8",
        "outputId": "478b5aa5-1ae2-4ff5-c7f8-541fe6200ac8"
      },
      "execution_count": null,
      "outputs": [
        {
          "output_type": "stream",
          "name": "stdout",
          "text": [
            "(1000, 60)\n",
            "<class 'pandas.core.frame.DataFrame'>\n",
            "RangeIndex: 1000 entries, 0 to 999\n",
            "Data columns (total 60 columns):\n",
            " #   Column                   Non-Null Count  Dtype  \n",
            "---  ------                   --------------  -----  \n",
            " 0   filename                 1000 non-null   object \n",
            " 1   length                   1000 non-null   int64  \n",
            " 2   chroma_stft_mean         1000 non-null   float64\n",
            " 3   chroma_stft_var          1000 non-null   float64\n",
            " 4   rms_mean                 1000 non-null   float64\n",
            " 5   rms_var                  1000 non-null   float64\n",
            " 6   spectral_centroid_mean   1000 non-null   float64\n",
            " 7   spectral_centroid_var    1000 non-null   float64\n",
            " 8   spectral_bandwidth_mean  1000 non-null   float64\n",
            " 9   spectral_bandwidth_var   1000 non-null   float64\n",
            " 10  rolloff_mean             1000 non-null   float64\n",
            " 11  rolloff_var              1000 non-null   float64\n",
            " 12  zero_crossing_rate_mean  1000 non-null   float64\n",
            " 13  zero_crossing_rate_var   1000 non-null   float64\n",
            " 14  harmony_mean             1000 non-null   float64\n",
            " 15  harmony_var              1000 non-null   float64\n",
            " 16  perceptr_mean            1000 non-null   float64\n",
            " 17  perceptr_var             1000 non-null   float64\n",
            " 18  tempo                    1000 non-null   float64\n",
            " 19  mfcc1_mean               1000 non-null   float64\n",
            " 20  mfcc1_var                1000 non-null   float64\n",
            " 21  mfcc2_mean               1000 non-null   float64\n",
            " 22  mfcc2_var                1000 non-null   float64\n",
            " 23  mfcc3_mean               1000 non-null   float64\n",
            " 24  mfcc3_var                1000 non-null   float64\n",
            " 25  mfcc4_mean               1000 non-null   float64\n",
            " 26  mfcc4_var                1000 non-null   float64\n",
            " 27  mfcc5_mean               1000 non-null   float64\n",
            " 28  mfcc5_var                1000 non-null   float64\n",
            " 29  mfcc6_mean               1000 non-null   float64\n",
            " 30  mfcc6_var                1000 non-null   float64\n",
            " 31  mfcc7_mean               1000 non-null   float64\n",
            " 32  mfcc7_var                1000 non-null   float64\n",
            " 33  mfcc8_mean               1000 non-null   float64\n",
            " 34  mfcc8_var                1000 non-null   float64\n",
            " 35  mfcc9_mean               1000 non-null   float64\n",
            " 36  mfcc9_var                1000 non-null   float64\n",
            " 37  mfcc10_mean              1000 non-null   float64\n",
            " 38  mfcc10_var               1000 non-null   float64\n",
            " 39  mfcc11_mean              1000 non-null   float64\n",
            " 40  mfcc11_var               1000 non-null   float64\n",
            " 41  mfcc12_mean              1000 non-null   float64\n",
            " 42  mfcc12_var               1000 non-null   float64\n",
            " 43  mfcc13_mean              1000 non-null   float64\n",
            " 44  mfcc13_var               1000 non-null   float64\n",
            " 45  mfcc14_mean              1000 non-null   float64\n",
            " 46  mfcc14_var               1000 non-null   float64\n",
            " 47  mfcc15_mean              1000 non-null   float64\n",
            " 48  mfcc15_var               1000 non-null   float64\n",
            " 49  mfcc16_mean              1000 non-null   float64\n",
            " 50  mfcc16_var               1000 non-null   float64\n",
            " 51  mfcc17_mean              1000 non-null   float64\n",
            " 52  mfcc17_var               1000 non-null   float64\n",
            " 53  mfcc18_mean              1000 non-null   float64\n",
            " 54  mfcc18_var               1000 non-null   float64\n",
            " 55  mfcc19_mean              1000 non-null   float64\n",
            " 56  mfcc19_var               1000 non-null   float64\n",
            " 57  mfcc20_mean              1000 non-null   float64\n",
            " 58  mfcc20_var               1000 non-null   float64\n",
            " 59  label                    1000 non-null   object \n",
            "dtypes: float64(57), int64(1), object(2)\n",
            "memory usage: 468.9+ KB\n",
            "None\n"
          ]
        }
      ]
    },
    {
      "cell_type": "code",
      "source": [
        "import seaborn as sns\n",
        "label_tempo_df= df[['label', 'tempo']]\n",
        "\n",
        "f, ax = plt.subplots(figsize = (16,9))\n",
        "sns.boxplot(x = 'label', y = 'tempo', data = label_tempo_df, palette = 'rocket' )\n",
        "\n",
        "plt.title('BPM Boxplot for Genres', fontsize = 15)\n",
        "plt.xticks(fontsize = 15)\n",
        "plt.yticks(fontsize = 15)\n",
        "plt.xlabel('Genre', fontsize = 20)\n",
        "plt.ylabel('BPM', fontsize = 20)\n",
        "plt.show()"
      ],
      "metadata": {
        "colab": {
          "base_uri": "https://localhost:8080/",
          "height": 622
        },
        "id": "JBVUAjHRHM64",
        "outputId": "e32ed4b6-111f-41eb-aa68-9f2890ec2793"
      },
      "execution_count": null,
      "outputs": [
        {
          "output_type": "display_data",
          "data": {
            "text/plain": [
              "<Figure size 1600x900 with 1 Axes>"
            ],
            "image/png": "[encoded data removed]"
          },
          "metadata": {}
        }
      ]
    },
    {
      "cell_type": "markdown",
      "source": [
        "##**Feature Extractor Function**\n",
        "\n",
        "`Mel Frequency Cepstral Coefficients:`\n",
        "\n",
        "These are state-of-the-art features used in automatic speech and speech recognition studies. There are set of steps for generation of these features:\n",
        "\n",
        "Since the audio signals are constantly changing, first we divide these signals into smaller frames. Each frame is around 20-40 ms long. Then we try to identify different frequencies present in each frame. Now, separate linguistic frequencies from the noise To discard the noise, it then takes discrete cosine transform (DCT) of these frequencies. Using DCT we keep only a specific sequence of frequencies that have a high probability of information.\n"
      ],
      "metadata": {
        "id": "I7Cal28gTdC5"
      }
    },
    {
      "cell_type": "markdown",
      "source": [
        "Creating a function to extract mfccs scaled features."
      ],
      "metadata": {
        "id": "ckI7P4OCrouI"
      }
    },
    {
      "cell_type": "code",
      "source": [
        "def features_extractor(file):\n",
        "\n",
        "    ### Loading file_names and it will return audio and sample rate\n",
        "    ### Librosa will normalize data and return sample rate between 0 to 1.\n",
        "    audio, sample_rate = librosa.load(file_name, res_type='kaiser_fast')\n",
        "\n",
        "\n",
        "    ### Loading mfccs features using librosa.feature and limiting the number of features upto 40.\n",
        "    mfccs_features = librosa.feature.mfcc(y=audio, sr=sample_rate, n_mfcc=40)\n",
        "\n",
        "\n",
        "    ### Calculating the mean of all mfccs features, to make it scaled\n",
        "    mfccs_scaled_features = np.mean(mfccs_features.T,axis=0)\n",
        "\n",
        "    return mfccs_scaled_features"
      ],
      "metadata": {
        "id": "qALj6JzdSwEC"
      },
      "execution_count": null,
      "outputs": []
    },
    {
      "cell_type": "markdown",
      "source": [
        "##Appending label"
      ],
      "metadata": {
        "id": "Iy1YYIDktzBs"
      }
    },
    {
      "cell_type": "code",
      "source": [
        "metadata.drop(labels=552, axis=0, inplace=True)\n",
        "### Run only once, cause u wanna pop a label because it's corrupt"
      ],
      "metadata": {
        "id": "PgE0hWWSWmDm"
      },
      "execution_count": null,
      "outputs": []
    },
    {
      "cell_type": "markdown",
      "source": [
        "**tqdm:**\n",
        "`tqdm` is a Python library that provides a fast, extensible progress bar for loops and other iterable computations."
      ],
      "metadata": {
        "id": "3dlwggA4t5l0"
      }
    },
    {
      "cell_type": "code",
      "source": [
        "from tqdm import tqdm\n",
        "### Now we iterate through every audio file and extract features\n",
        "### using Mel Frequency Cepstral Coefficients\n",
        "\n",
        "extracted_features=[]\n",
        "### Iterating metadata row-wise.\n",
        "for index_num,row in tqdm(metadata.iterrows()):\n",
        "  try:\n",
        "    final_class_labels=row[\"label\"]\n",
        "    file_name = os.path.join(os.path.abspath(audio_dataset_path), final_class_labels+'/',str(row[\"filename\"]))\n",
        "    data=features_extractor(file_name)\n",
        "    extracted_features.append([data,final_class_labels])\n",
        "  except Exception as e:\n",
        "    print(f\"Error:  {e}\")\n",
        "    continue"
      ],
      "metadata": {
        "colab": {
          "base_uri": "https://localhost:8080/"
        },
        "id": "V6sGxhxHWyF4",
        "outputId": "a36732e2-3b16-4aa8-b3a2-69bdbcb0b8c1"
      },
      "execution_count": null,
      "outputs": [
        {
          "output_type": "stream",
          "name": "stderr",
          "text": [
            "553it [05:01,  1.82it/s]<ipython-input-5-0aea28d45519>:5: UserWarning: PySoundFile failed. Trying audioread instead.\n",
            "  audio, sample_rate = librosa.load(file_name, res_type='kaiser_fast')\n",
            "/usr/local/lib/python3.10/dist-packages/librosa/core/audio.py:183: FutureWarning: librosa.core.audio.__audioread_load\n",
            "\tDeprecated as of librosa version 0.10.0.\n",
            "\tIt will be removed in librosa version 1.0.\n",
            "  y, sr_native = __audioread_load(path, offset, duration, dtype)\n",
            "554it [05:02,  1.11it/s]"
          ]
        },
        {
          "output_type": "stream",
          "name": "stdout",
          "text": [
            "Error:  \n"
          ]
        },
        {
          "output_type": "stream",
          "name": "stderr",
          "text": [
            "999it [08:45,  1.90it/s]\n"
          ]
        }
      ]
    },
    {
      "cell_type": "code",
      "source": [
        "### converting extracted_features to Pandas dataframe\n",
        "extracted_features_df=pd.DataFrame(extracted_features,columns=['feature','class'])\n",
        "extracted_features_df.head()"
      ],
      "metadata": {
        "colab": {
          "base_uri": "https://localhost:8080/",
          "height": 206
        },
        "id": "EQpRyQqgZRsx",
        "outputId": "4564296a-f413-4258-fca8-a05435f9a3d1"
      },
      "execution_count": null,
      "outputs": [
        {
          "output_type": "execute_result",
          "data": {
            "text/plain": [
              "                                             feature  class\n",
              "0  [-113.59882, 121.57067, -19.162262, 42.36394, ...  blues\n",
              "1  [-207.52383, 123.98514, 8.94702, 35.86715, 2.9...  blues\n",
              "2  [-90.757164, 140.44087, -29.084547, 31.686693,...  blues\n",
              "3  [-199.57513, 150.0861, 5.663404, 26.855282, 1....  blues\n",
              "4  [-160.35417, 126.20948, -35.581394, 22.139256,...  blues"
            ],
            "text/html": [
              "\n",
              "  <div id=\"df-8c5ea732-894a-45fd-8d02-a5f2dec22790\" class=\"colab-df-container\">\n",
              "    <div>\n",
              "<style scoped>\n",
              "    .dataframe tbody tr th:only-of-type {\n",
              "        vertical-align: middle;\n",
              "    }\n",
              "\n",
              "    .dataframe tbody tr th {\n",
              "        vertical-align: top;\n",
              "    }\n",
              "\n",
              "    .dataframe thead th {\n",
              "        text-align: right;\n",
              "    }\n",
              "</style>\n",
              "<table border=\"1\" class=\"dataframe\">\n",
              "  <thead>\n",
              "    <tr style=\"text-align: right;\">\n",
              "      <th></th>\n",
              "      <th>feature</th>\n",
              "      <th>class</th>\n",
              "    </tr>\n",
              "  </thead>\n",
              "  <tbody>\n",
              "    <tr>\n",
              "      <th>0</th>\n",
              "      <td>[-113.59882, 121.57067, -19.162262, 42.36394, ...</td>\n",
              "      <td>blues</td>\n",
              "    </tr>\n",
              "    <tr>\n",
              "      <th>1</th>\n",
              "      <td>[-207.52383, 123.98514, 8.94702, 35.86715, 2.9...</td>\n",
              "      <td>blues</td>\n",
              "    </tr>\n",
              "    <tr>\n",
              "      <th>2</th>\n",
              "      <td>[-90.757164, 140.44087, -29.084547, 31.686693,...</td>\n",
              "      <td>blues</td>\n",
              "    </tr>\n",
              "    <tr>\n",
              "      <th>3</th>\n",
              "      <td>[-199.57513, 150.0861, 5.663404, 26.855282, 1....</td>\n",
              "      <td>blues</td>\n",
              "    </tr>\n",
              "    <tr>\n",
              "      <th>4</th>\n",
              "      <td>[-160.35417, 126.20948, -35.581394, 22.139256,...</td>\n",
              "      <td>blues</td>\n",
              "    </tr>\n",
              "  </tbody>\n",
              "</table>\n",
              "</div>\n",
              "    <div class=\"colab-df-buttons\">\n",
              "\n",
              "  <div class=\"colab-df-container\">\n",
              "    <button class=\"colab-df-convert\" onclick=\"convertToInteractive('df-8c5ea732-894a-45fd-8d02-a5f2dec22790')\"\n",
              "            title=\"Convert this dataframe to an interactive table.\"\n",
              "            style=\"display:none;\">\n",
              "\n",
              "  <svg xmlns=\"http://www.w3.org/2000/svg\" height=\"24px\" viewBox=\"0 -960 960 960\">\n",
              "    <path d=\"M120-120v-720h720v720H120Zm60-500h600v-160H180v160Zm220 220h160v-160H400v160Zm0 220h160v-160H400v160ZM180-400h160v-160H180v160Zm440 0h160v-160H620v160ZM180-180h160v-160H180v160Zm440 0h160v-160H620v160Z\"/>\n",
              "  </svg>\n",
              "    </button>\n",
              "\n",
              "  <style>\n",
              "    .colab-df-container {\n",
              "      display:flex;\n",
              "      gap: 12px;\n",
              "    }\n",
              "\n",
              "    .colab-df-convert {\n",
              "      background-color: #E8F0FE;\n",
              "      border: none;\n",
              "      border-radius: 50%;\n",
              "      cursor: pointer;\n",
              "      display: none;\n",
              "      fill: #1967D2;\n",
              "      height: 32px;\n",
              "      padding: 0 0 0 0;\n",
              "      width: 32px;\n",
              "    }\n",
              "\n",
              "    .colab-df-convert:hover {\n",
              "      background-color: #E2EBFA;\n",
              "      box-shadow: 0px 1px 2px rgba(60, 64, 67, 0.3), 0px 1px 3px 1px rgba(60, 64, 67, 0.15);\n",
              "      fill: #174EA6;\n",
              "    }\n",
              "\n",
              "    .colab-df-buttons div {\n",
              "      margin-bottom: 4px;\n",
              "    }\n",
              "\n",
              "    [theme=dark] .colab-df-convert {\n",
              "      background-color: #3B4455;\n",
              "      fill: #D2E3FC;\n",
              "    }\n",
              "\n",
              "    [theme=dark] .colab-df-convert:hover {\n",
              "      background-color: #434B5C;\n",
              "      box-shadow: 0px 1px 3px 1px rgba(0, 0, 0, 0.15);\n",
              "      filter: drop-shadow(0px 1px 2px rgba(0, 0, 0, 0.3));\n",
              "      fill: #FFFFFF;\n",
              "    }\n",
              "  </style>\n",
              "\n",
              "    <script>\n",
              "      const buttonEl =\n",
              "        document.querySelector('#df-8c5ea732-894a-45fd-8d02-a5f2dec22790 button.colab-df-convert');\n",
              "      buttonEl.style.display =\n",
              "        google.colab.kernel.accessAllowed ? 'block' : 'none';\n",
              "\n",
              "      async function convertToInteractive(key) {\n",
              "        const element = document.querySelector('#df-8c5ea732-894a-45fd-8d02-a5f2dec22790');\n",
              "        const dataTable =\n",
              "          await google.colab.kernel.invokeFunction('convertToInteractive',\n",
              "                                                    [key], {});\n",
              "        if (!dataTable) return;\n",
              "\n",
              "        const docLinkHtml = 'Like what you see? Visit the ' +\n",
              "          '<a target=\"_blank\" href=https://colab.research.google.com/notebooks/data_table.ipynb>data table notebook</a>'\n",
              "          + ' to learn more about interactive tables.';\n",
              "        element.innerHTML = '';\n",
              "        dataTable['output_type'] = 'display_data';\n",
              "        await google.colab.output.renderOutput(dataTable, element);\n",
              "        const docLink = document.createElement('div');\n",
              "        docLink.innerHTML = docLinkHtml;\n",
              "        element.appendChild(docLink);\n",
              "      }\n",
              "    </script>\n",
              "  </div>\n",
              "\n",
              "\n",
              "<div id=\"df-d45b4120-412d-4d77-bb44-1e05e287eb9b\">\n",
              "  <button class=\"colab-df-quickchart\" onclick=\"quickchart('df-d45b4120-412d-4d77-bb44-1e05e287eb9b')\"\n",
              "            title=\"Suggest charts\"\n",
              "            style=\"display:none;\">\n",
              "\n",
              "<svg xmlns=\"http://www.w3.org/2000/svg\" height=\"24px\"viewBox=\"0 0 24 24\"\n",
              "     width=\"24px\">\n",
              "    <g>\n",
              "        <path d=\"M19 3H5c-1.1 0-2 .9-2 2v14c0 1.1.9 2 2 2h14c1.1 0 2-.9 2-2V5c0-1.1-.9-2-2-2zM9 17H7v-7h2v7zm4 0h-2V7h2v10zm4 0h-2v-4h2v4z\"/>\n",
              "    </g>\n",
              "</svg>\n",
              "  </button>\n",
              "\n",
              "<style>\n",
              "  .colab-df-quickchart {\n",
              "      --bg-color: #E8F0FE;\n",
              "      --fill-color: #1967D2;\n",
              "      --hover-bg-color: #E2EBFA;\n",
              "      --hover-fill-color: #174EA6;\n",
              "      --disabled-fill-color: #AAA;\n",
              "      --disabled-bg-color: #DDD;\n",
              "  }\n",
              "\n",
              "  [theme=dark] .colab-df-quickchart {\n",
              "      --bg-color: #3B4455;\n",
              "      --fill-color: #D2E3FC;\n",
              "      --hover-bg-color: #434B5C;\n",
              "      --hover-fill-color: #FFFFFF;\n",
              "      --disabled-bg-color: #3B4455;\n",
              "      --disabled-fill-color: #666;\n",
              "  }\n",
              "\n",
              "  .colab-df-quickchart {\n",
              "    background-color: var(--bg-color);\n",
              "    border: none;\n",
              "    border-radius: 50%;\n",
              "    cursor: pointer;\n",
              "    display: none;\n",
              "    fill: var(--fill-color);\n",
              "    height: 32px;\n",
              "    padding: 0;\n",
              "    width: 32px;\n",
              "  }\n",
              "\n",
              "  .colab-df-quickchart:hover {\n",
              "    background-color: var(--hover-bg-color);\n",
              "    box-shadow: 0 1px 2px rgba(60, 64, 67, 0.3), 0 1px 3px 1px rgba(60, 64, 67, 0.15);\n",
              "    fill: var(--button-hover-fill-color);\n",
              "  }\n",
              "\n",
              "  .colab-df-quickchart-complete:disabled,\n",
              "  .colab-df-quickchart-complete:disabled:hover {\n",
              "    background-color: var(--disabled-bg-color);\n",
              "    fill: var(--disabled-fill-color);\n",
              "    box-shadow: none;\n",
              "  }\n",
              "\n",
              "  .colab-df-spinner {\n",
              "    border: 2px solid var(--fill-color);\n",
              "    border-color: transparent;\n",
              "    border-bottom-color: var(--fill-color);\n",
              "    animation:\n",
              "      spin 1s steps(1) infinite;\n",
              "  }\n",
              "\n",
              "  @keyframes spin {\n",
              "    0% {\n",
              "      border-color: transparent;\n",
              "      border-bottom-color: var(--fill-color);\n",
              "      border-left-color: var(--fill-color);\n",
              "    }\n",
              "    20% {\n",
              "      border-color: transparent;\n",
              "      border-left-color: var(--fill-color);\n",
              "      border-top-color: var(--fill-color);\n",
              "    }\n",
              "    30% {\n",
              "      border-color: transparent;\n",
              "      border-left-color: var(--fill-color);\n",
              "      border-top-color: var(--fill-color);\n",
              "      border-right-color: var(--fill-color);\n",
              "    }\n",
              "    40% {\n",
              "      border-color: transparent;\n",
              "      border-right-color: var(--fill-color);\n",
              "      border-top-color: var(--fill-color);\n",
              "    }\n",
              "    60% {\n",
              "      border-color: transparent;\n",
              "      border-right-color: var(--fill-color);\n",
              "    }\n",
              "    80% {\n",
              "      border-color: transparent;\n",
              "      border-right-color: var(--fill-color);\n",
              "      border-bottom-color: var(--fill-color);\n",
              "    }\n",
              "    90% {\n",
              "      border-color: transparent;\n",
              "      border-bottom-color: var(--fill-color);\n",
              "    }\n",
              "  }\n",
              "</style>\n",
              "\n",
              "  <script>\n",
              "    async function quickchart(key) {\n",
              "      const quickchartButtonEl =\n",
              "        document.querySelector('#' + key + ' button');\n",
              "      quickchartButtonEl.disabled = true;  // To prevent multiple clicks.\n",
              "      quickchartButtonEl.classList.add('colab-df-spinner');\n",
              "      try {\n",
              "        const charts = await google.colab.kernel.invokeFunction(\n",
              "            'suggestCharts', [key], {});\n",
              "      } catch (error) {\n",
              "        console.error('Error during call to suggestCharts:', error);\n",
              "      }\n",
              "      quickchartButtonEl.classList.remove('colab-df-spinner');\n",
              "      quickchartButtonEl.classList.add('colab-df-quickchart-complete');\n",
              "    }\n",
              "    (() => {\n",
              "      let quickchartButtonEl =\n",
              "        document.querySelector('#df-d45b4120-412d-4d77-bb44-1e05e287eb9b button');\n",
              "      quickchartButtonEl.style.display =\n",
              "        google.colab.kernel.accessAllowed ? 'block' : 'none';\n",
              "    })();\n",
              "  </script>\n",
              "</div>\n",
              "\n",
              "    </div>\n",
              "  </div>\n"
            ]
          },
          "metadata": {},
          "execution_count": 8
        }
      ]
    },
    {
      "cell_type": "code",
      "source": [
        "extracted_features_df['class'].value_counts()"
      ],
      "metadata": {
        "colab": {
          "base_uri": "https://localhost:8080/"
        },
        "id": "LUcbnkrMZth_",
        "outputId": "a512f4a9-4047-4cf0-ac94-9026b462ace1"
      },
      "execution_count": null,
      "outputs": [
        {
          "output_type": "execute_result",
          "data": {
            "text/plain": [
              "blues        100\n",
              "classical    100\n",
              "country      100\n",
              "disco        100\n",
              "hiphop       100\n",
              "metal        100\n",
              "pop          100\n",
              "reggae       100\n",
              "rock         100\n",
              "jazz          98\n",
              "Name: class, dtype: int64"
            ]
          },
          "metadata": {},
          "execution_count": 9
        }
      ]
    },
    {
      "cell_type": "markdown",
      "source": [
        "##**Split the dataset into independent and dependent dataset**"
      ],
      "metadata": {
        "id": "Qte0FEA_Z8qd"
      }
    },
    {
      "cell_type": "code",
      "source": [
        "X=np.array(extracted_features_df['feature'].tolist())\n",
        "y=np.array(extracted_features_df['class'].tolist())"
      ],
      "metadata": {
        "id": "W5eUs_yLaJdQ"
      },
      "execution_count": null,
      "outputs": []
    },
    {
      "cell_type": "code",
      "source": [
        "X.shape"
      ],
      "metadata": {
        "colab": {
          "base_uri": "https://localhost:8080/"
        },
        "id": "3YV3BkgJabqW",
        "outputId": "6d9ebba1-9513-4261-fda7-5e5953a1169f"
      },
      "execution_count": null,
      "outputs": [
        {
          "output_type": "execute_result",
          "data": {
            "text/plain": [
              "(998, 40)"
            ]
          },
          "metadata": {},
          "execution_count": 11
        }
      ]
    },
    {
      "cell_type": "code",
      "source": [
        "from tensorflow.keras.utils import to_categorical\n",
        "from sklearn.preprocessing import LabelEncoder\n",
        "labelencoder=LabelEncoder()\n",
        "y=to_categorical(labelencoder.fit_transform(y))"
      ],
      "metadata": {
        "id": "bQIJGt0AaenG"
      },
      "execution_count": null,
      "outputs": []
    },
    {
      "cell_type": "code",
      "source": [
        "y.shape"
      ],
      "metadata": {
        "colab": {
          "base_uri": "https://localhost:8080/"
        },
        "id": "0Vly6UAmbI9y",
        "outputId": "8c914f98-29ef-4276-aa22-275553c4e1b3"
      },
      "execution_count": null,
      "outputs": [
        {
          "output_type": "execute_result",
          "data": {
            "text/plain": [
              "(998, 10)"
            ]
          },
          "metadata": {},
          "execution_count": 13
        }
      ]
    },
    {
      "cell_type": "markdown",
      "source": [
        "#**Train Test Split:**"
      ],
      "metadata": {
        "id": "Qf5nMiIlcj-x"
      }
    },
    {
      "cell_type": "markdown",
      "source": [
        "###**TensorFlow:**\n",
        "\n",
        ">`TensorFlow` is an open-source machine learning library developed by the Google Brain team. It is designed to facilitate the development and deployment of machine learning models, particularly deep learning models. TensorFlow provides a comprehensive set of tools and community resources for building and training various types of machine learning models, including neural networks.\n",
        "\n"
      ],
      "metadata": {
        "id": "2hKcGRNyvbQ1"
      }
    },
    {
      "cell_type": "markdown",
      "source": [
        "###**sklearn:**\n",
        ">`sklearn` is a popular open-source machine learning library for the Python programming language. It provides simple and efficient tools for data analysis and modeling, including various machine learning algorithms, data preprocessing, feature selection, and model evaluation."
      ],
      "metadata": {
        "id": "0Uji9-CdAfGa"
      }
    },
    {
      "cell_type": "code",
      "source": [
        "from sklearn.model_selection import train_test_split\n",
        "X_train,X_test,y_train,y_test=train_test_split(X,y,test_size=0.2,random_state=0)"
      ],
      "metadata": {
        "id": "RTxh5YBMbLDa"
      },
      "execution_count": null,
      "outputs": []
    },
    {
      "cell_type": "code",
      "source": [
        "X_train"
      ],
      "metadata": {
        "colab": {
          "base_uri": "https://localhost:8080/"
        },
        "id": "x7V0W7tTc5-o",
        "outputId": "4aaa78e2-91de-4078-caf6-1e522b040386"
      },
      "execution_count": null,
      "outputs": [
        {
          "output_type": "execute_result",
          "data": {
            "text/plain": [
              "array([[-1.04723763e+02,  8.77537155e+01, -3.32488594e+01, ...,\n",
              "        -2.38248777e+00, -1.36347139e+00, -7.22123504e-01],\n",
              "       [-2.59909851e+02,  1.23193169e+02, -6.39508581e+00, ...,\n",
              "        -6.73697758e+00, -3.90829611e+00,  3.18117642e+00],\n",
              "       [-1.15755066e+02,  6.70791245e+01,  1.88346851e+00, ...,\n",
              "        -3.43661404e+00, -1.73870683e+00, -4.68738452e-02],\n",
              "       ...,\n",
              "       [-1.25020428e+01,  9.13173676e+01, -2.30759563e+01, ...,\n",
              "        -4.04763985e+00, -1.77685583e+00, -1.75431299e+00],\n",
              "       [-2.37930965e+01,  8.29835587e+01,  2.32049274e+00, ...,\n",
              "         1.40550280e+00,  4.16220456e-01, -3.45980562e-02],\n",
              "       [-9.63197021e+01,  9.09497147e+01, -3.22195396e+01, ...,\n",
              "        -2.41483903e+00, -1.62698299e-01, -1.84749973e+00]], dtype=float32)"
            ]
          },
          "metadata": {},
          "execution_count": 15
        }
      ]
    },
    {
      "cell_type": "code",
      "source": [
        "print(X_train.shape)\n",
        "print(X_test.shape)\n",
        "print(y_train.shape)\n",
        "print(y_test.shape)"
      ],
      "metadata": {
        "colab": {
          "base_uri": "https://localhost:8080/"
        },
        "id": "ChqaOj0mc7qr",
        "outputId": "05f8797e-4ba8-45dc-9283-a20a8c2c56a5"
      },
      "execution_count": null,
      "outputs": [
        {
          "output_type": "stream",
          "name": "stdout",
          "text": [
            "(798, 40)\n",
            "(200, 40)\n",
            "(798, 10)\n",
            "(200, 10)\n"
          ]
        }
      ]
    },
    {
      "cell_type": "code",
      "source": [
        "import tensorflow as tf\n",
        "print(tf.__version__)"
      ],
      "metadata": {
        "colab": {
          "base_uri": "https://localhost:8080/"
        },
        "id": "4AZBHUYddH2n",
        "outputId": "f6b9a363-fadc-4e94-ee9c-f10b1a5eaeb1"
      },
      "execution_count": null,
      "outputs": [
        {
          "output_type": "stream",
          "name": "stdout",
          "text": [
            "2.15.0\n"
          ]
        }
      ]
    },
    {
      "cell_type": "markdown",
      "source": [
        "###**Keras:**\n",
        ">`Keras` is an open-source high-level neural networks API written in Python and capable of running on top of popular deep learning libraries, including TensorFlow, Microsoft Cognitive Toolkit (CNTK), and Theano.\n",
        "\n",
        ">`Sequential` in `keras.models` is a linear stack of neural network layers, simplifying the process of building, training, and deploying deep learning models in a sequential manner.\n",
        "\n",
        ">`keras.layers` is a module in the Keras deep learning library that provides a collection of layer classes. These classes are used to construct neural networks by stacking various types of layers on top of each other.\n",
        "\n",
        ">`keras.optimizers` is a module in the Keras deep learning library that provides a collection of optimizer classes. Optimizers are algorithms or methods used to adjust the parameters (weights and biases) of a neural network during training. They play a crucial role in minimizing the loss function and improving the model's performance."
      ],
      "metadata": {
        "id": "NTDiiKiYvroz"
      }
    },
    {
      "cell_type": "code",
      "source": [
        "from tensorflow.keras.models import Sequential\n",
        "from tensorflow.keras.layers import Dense,Dropout,Activation,Flatten\n",
        "from tensorflow.keras.optimizers import Adam\n",
        "from sklearn import metrics"
      ],
      "metadata": {
        "id": "OhcisbJUdPyc"
      },
      "execution_count": null,
      "outputs": []
    },
    {
      "cell_type": "code",
      "source": [
        "## No of classes\n",
        "num_labels=y.shape[1]"
      ],
      "metadata": {
        "id": "4s7KoeH5dxVF"
      },
      "execution_count": null,
      "outputs": []
    },
    {
      "cell_type": "code",
      "source": [
        "y.shape[1]"
      ],
      "metadata": {
        "colab": {
          "base_uri": "https://localhost:8080/"
        },
        "id": "QmRQs6PKo2XA",
        "outputId": "99b905b5-4dc4-419c-9743-c145d3f44fc7"
      },
      "execution_count": null,
      "outputs": [
        {
          "output_type": "execute_result",
          "data": {
            "text/plain": [
              "10"
            ]
          },
          "metadata": {},
          "execution_count": 20
        }
      ]
    },
    {
      "cell_type": "markdown",
      "source": [
        "###Layering the model with multiple neural network layers"
      ],
      "metadata": {
        "id": "5B3sLxJl3iGF"
      }
    },
    {
      "cell_type": "code",
      "source": [
        "model=Sequential()\n",
        "model.add(Dense(1024,input_shape=(40,),activation=\"relu\"))\n",
        "model.add(Dropout(0.3))\n",
        "model.add(Dense(512, activation=\"relu\"))\n",
        "model.add(Dropout(0.3))\n",
        "model.add(Dense(256, activation=\"relu\"))\n",
        "model.add(Dropout(0.3))\n",
        "model.add(Dense(128, activation=\"relu\"))\n",
        "model.add(Dropout(0.3))\n",
        "model.add(Dense(64, activation=\"relu\"))\n",
        "model.add(Dropout(0.3))\n",
        "model.add(Dense(32, activation=\"relu\"))\n",
        "model.add(Dropout(0.3))\n",
        "\n",
        "###final layer\n",
        "model.add(Dense(num_labels, activation=\"softmax\"))"
      ],
      "metadata": {
        "id": "7Hny4rrid3_2"
      },
      "execution_count": null,
      "outputs": []
    },
    {
      "cell_type": "code",
      "source": [
        "model.summary()"
      ],
      "metadata": {
        "colab": {
          "base_uri": "https://localhost:8080/"
        },
        "id": "WlBkC3Dveyr4",
        "outputId": "efe5ca34-8bcc-4994-977c-d8dfa7a7dcb4"
      },
      "execution_count": null,
      "outputs": [
        {
          "output_type": "stream",
          "name": "stdout",
          "text": [
            "Model: \"sequential\"\n",
            "_________________________________________________________________\n",
            " Layer (type)                Output Shape              Param #   \n",
            "=================================================================\n",
            " dense (Dense)               (None, 1024)              41984     \n",
            "                                                                 \n",
            " dropout (Dropout)           (None, 1024)              0         \n",
            "                                                                 \n",
            " dense_1 (Dense)             (None, 512)               524800    \n",
            "                                                                 \n",
            " dropout_1 (Dropout)         (None, 512)               0         \n",
            "                                                                 \n",
            " dense_2 (Dense)             (None, 256)               131328    \n",
            "                                                                 \n",
            " dropout_2 (Dropout)         (None, 256)               0         \n",
            "                                                                 \n",
            " dense_3 (Dense)             (None, 128)               32896     \n",
            "                                                                 \n",
            " dropout_3 (Dropout)         (None, 128)               0         \n",
            "                                                                 \n",
            " dense_4 (Dense)             (None, 64)                8256      \n",
            "                                                                 \n",
            " dropout_4 (Dropout)         (None, 64)                0         \n",
            "                                                                 \n",
            " dense_5 (Dense)             (None, 32)                2080      \n",
            "                                                                 \n",
            " dropout_5 (Dropout)         (None, 32)                0         \n",
            "                                                                 \n",
            " dense_6 (Dense)             (None, 10)                330       \n",
            "                                                                 \n",
            "=================================================================\n",
            "Total params: 741674 (2.83 MB)\n",
            "Trainable params: 741674 (2.83 MB)\n",
            "Non-trainable params: 0 (0.00 Byte)\n",
            "_________________________________________________________________\n"
          ]
        }
      ]
    },
    {
      "cell_type": "markdown",
      "source": [
        "##Compiling the model"
      ],
      "metadata": {
        "id": "w6P-PelQ3Dmn"
      }
    },
    {
      "cell_type": "code",
      "source": [
        "model.compile(loss='categorical_crossentropy',metrics=['accuracy'],optimizer='adam')"
      ],
      "metadata": {
        "id": "I8UJL_lte3Bf"
      },
      "execution_count": null,
      "outputs": []
    },
    {
      "cell_type": "code",
      "source": [
        "import time\n",
        "t = time.localtime()\n",
        "current_time = time.strftime(\"%H:%M:%S\", t)"
      ],
      "metadata": {
        "id": "5uyzaKovfPQR"
      },
      "execution_count": null,
      "outputs": []
    },
    {
      "cell_type": "markdown",
      "source": [
        "##Training my model"
      ],
      "metadata": {
        "id": "-2pfjg4j3x4f"
      }
    },
    {
      "cell_type": "code",
      "source": [
        "\n",
        "from tensorflow.keras.callbacks import ModelCheckpoint\n",
        "from datetime import datetime\n",
        "\n",
        "num_epochs = 100\n",
        "num_batch_size = 32\n",
        "\n",
        "checkpointer = ModelCheckpoint(filepath=f'saved_models/audio_classification_{current_time}.hdf5',verbose=1, save_best_only=True)\n",
        "###This ModelCheckpoint will return the best suited model to checkpointer\n",
        "start = datetime.now() #to calculate the initial time, before starting model training\n",
        "\n",
        "history = model.fit(X_train, y_train, batch_size=num_batch_size, epochs=num_epochs, validation_data=(X_test, y_test), callbacks=[checkpointer], verbose=1)\n",
        "\n",
        "duration = datetime.now() - start\n",
        "print(\"Training completed in time: \", duration)##display the total time used to train this model"
      ],
      "metadata": {
        "colab": {
          "base_uri": "https://localhost:8080/"
        },
        "id": "L2BG2eLcfkAo",
        "outputId": "b3b968f8-235a-48c6-adc3-afb48395a110"
      },
      "execution_count": null,
      "outputs": [
        {
          "output_type": "stream",
          "name": "stdout",
          "text": [
            "Epoch 1/100\n",
            "22/25 [=========================>....] - ETA: 0s - loss: 5.6574 - accuracy: 0.1236\n",
            "Epoch 1: val_loss improved from inf to 2.27719, saving model to saved_models/audio_classification_03:44:50.hdf5\n",
            "25/25 [==============================] - 3s 36ms/step - loss: 5.3835 - accuracy: 0.1216 - val_loss: 2.2772 - val_accuracy: 0.1550\n",
            "Epoch 2/100\n",
            " 1/25 [>.............................] - ETA: 0s - loss: 3.3844 - accuracy: 0.1250"
          ]
        },
        {
          "output_type": "stream",
          "name": "stderr",
          "text": [
            "/usr/local/lib/python3.10/dist-packages/keras/src/engine/training.py:3103: UserWarning: You are saving your model as an HDF5 file via `model.save()`. This file format is considered legacy. We recommend using instead the native Keras format, e.g. `model.save('my_model.keras')`.\n",
            "  saving_api.save_model(\n"
          ]
        },
        {
          "output_type": "stream",
          "name": "stdout",
          "text": [
            "25/25 [==============================] - ETA: 0s - loss: 2.7152 - accuracy: 0.1266\n",
            "Epoch 2: val_loss improved from 2.27719 to 2.25338, saving model to saved_models/audio_classification_03:44:50.hdf5\n",
            "25/25 [==============================] - 1s 31ms/step - loss: 2.7152 - accuracy: 0.1266 - val_loss: 2.2534 - val_accuracy: 0.1600\n",
            "Epoch 3/100\n",
            "25/25 [==============================] - ETA: 0s - loss: 2.4009 - accuracy: 0.1228\n",
            "Epoch 3: val_loss improved from 2.25338 to 2.17099, saving model to saved_models/audio_classification_03:44:50.hdf5\n",
            "25/25 [==============================] - 1s 29ms/step - loss: 2.4009 - accuracy: 0.1228 - val_loss: 2.1710 - val_accuracy: 0.2100\n",
            "Epoch 4/100\n",
            "25/25 [==============================] - ETA: 0s - loss: 2.3172 - accuracy: 0.1629\n",
            "Epoch 4: val_loss improved from 2.17099 to 2.13080, saving model to saved_models/audio_classification_03:44:50.hdf5\n",
            "25/25 [==============================] - 1s 28ms/step - loss: 2.3172 - accuracy: 0.1629 - val_loss: 2.1308 - val_accuracy: 0.2200\n",
            "Epoch 5/100\n",
            "24/25 [===========================>..] - ETA: 0s - loss: 2.3162 - accuracy: 0.1510\n",
            "Epoch 5: val_loss did not improve from 2.13080\n",
            "25/25 [==============================] - 1s 24ms/step - loss: 2.3145 - accuracy: 0.1516 - val_loss: 2.1577 - val_accuracy: 0.2050\n",
            "Epoch 6/100\n",
            "25/25 [==============================] - ETA: 0s - loss: 2.2581 - accuracy: 0.1579\n",
            "Epoch 6: val_loss did not improve from 2.13080\n",
            "25/25 [==============================] - 1s 25ms/step - loss: 2.2581 - accuracy: 0.1579 - val_loss: 2.1397 - val_accuracy: 0.2100\n",
            "Epoch 7/100\n",
            "24/25 [===========================>..] - ETA: 0s - loss: 2.2153 - accuracy: 0.1797\n",
            "Epoch 7: val_loss improved from 2.13080 to 2.10148, saving model to saved_models/audio_classification_03:44:50.hdf5\n",
            "25/25 [==============================] - 1s 36ms/step - loss: 2.2110 - accuracy: 0.1779 - val_loss: 2.1015 - val_accuracy: 0.2100\n",
            "Epoch 8/100\n",
            "23/25 [==========================>...] - ETA: 0s - loss: 2.1862 - accuracy: 0.1766\n",
            "Epoch 8: val_loss improved from 2.10148 to 2.04866, saving model to saved_models/audio_classification_03:44:50.hdf5\n",
            "25/25 [==============================] - 1s 31ms/step - loss: 2.1764 - accuracy: 0.1842 - val_loss: 2.0487 - val_accuracy: 0.2650\n",
            "Epoch 9/100\n",
            "23/25 [==========================>...] - ETA: 0s - loss: 2.1286 - accuracy: 0.2120\n",
            "Epoch 9: val_loss improved from 2.04866 to 2.00136, saving model to saved_models/audio_classification_03:44:50.hdf5\n",
            "25/25 [==============================] - 1s 30ms/step - loss: 2.1406 - accuracy: 0.2055 - val_loss: 2.0014 - val_accuracy: 0.2650\n",
            "Epoch 10/100\n",
            "25/25 [==============================] - ETA: 0s - loss: 2.1052 - accuracy: 0.2168\n",
            "Epoch 10: val_loss improved from 2.00136 to 1.99315, saving model to saved_models/audio_classification_03:44:50.hdf5\n",
            "25/25 [==============================] - 1s 28ms/step - loss: 2.1052 - accuracy: 0.2168 - val_loss: 1.9932 - val_accuracy: 0.2400\n",
            "Epoch 11/100\n",
            "25/25 [==============================] - ETA: 0s - loss: 2.0507 - accuracy: 0.2206\n",
            "Epoch 11: val_loss improved from 1.99315 to 1.94960, saving model to saved_models/audio_classification_03:44:50.hdf5\n",
            "25/25 [==============================] - 0s 20ms/step - loss: 2.0507 - accuracy: 0.2206 - val_loss: 1.9496 - val_accuracy: 0.2350\n",
            "Epoch 12/100\n",
            "25/25 [==============================] - ETA: 0s - loss: 2.0710 - accuracy: 0.2456\n",
            "Epoch 12: val_loss did not improve from 1.94960\n",
            "25/25 [==============================] - 0s 19ms/step - loss: 2.0710 - accuracy: 0.2456 - val_loss: 2.0014 - val_accuracy: 0.3100\n",
            "Epoch 13/100\n",
            "25/25 [==============================] - ETA: 0s - loss: 2.0762 - accuracy: 0.2093\n",
            "Epoch 13: val_loss did not improve from 1.94960\n",
            "25/25 [==============================] - 0s 17ms/step - loss: 2.0762 - accuracy: 0.2093 - val_loss: 1.9647 - val_accuracy: 0.2700\n",
            "Epoch 14/100\n",
            "24/25 [===========================>..] - ETA: 0s - loss: 1.9980 - accuracy: 0.2526\n",
            "Epoch 14: val_loss improved from 1.94960 to 1.89121, saving model to saved_models/audio_classification_03:44:50.hdf5\n",
            "25/25 [==============================] - 1s 23ms/step - loss: 1.9959 - accuracy: 0.2494 - val_loss: 1.8912 - val_accuracy: 0.3150\n",
            "Epoch 15/100\n",
            "25/25 [==============================] - ETA: 0s - loss: 1.9967 - accuracy: 0.2607\n",
            "Epoch 15: val_loss improved from 1.89121 to 1.85758, saving model to saved_models/audio_classification_03:44:50.hdf5\n",
            "25/25 [==============================] - 1s 29ms/step - loss: 1.9967 - accuracy: 0.2607 - val_loss: 1.8576 - val_accuracy: 0.3400\n",
            "Epoch 16/100\n",
            "23/25 [==========================>...] - ETA: 0s - loss: 1.9679 - accuracy: 0.2908\n",
            "Epoch 16: val_loss improved from 1.85758 to 1.79240, saving model to saved_models/audio_classification_03:44:50.hdf5\n",
            "25/25 [==============================] - 1s 24ms/step - loss: 1.9726 - accuracy: 0.2907 - val_loss: 1.7924 - val_accuracy: 0.3500\n",
            "Epoch 17/100\n",
            "25/25 [==============================] - ETA: 0s - loss: 1.9552 - accuracy: 0.2732\n",
            "Epoch 17: val_loss did not improve from 1.79240\n",
            "25/25 [==============================] - 0s 16ms/step - loss: 1.9552 - accuracy: 0.2732 - val_loss: 1.8233 - val_accuracy: 0.3300\n",
            "Epoch 18/100\n",
            "23/25 [==========================>...] - ETA: 0s - loss: 1.9202 - accuracy: 0.2908\n",
            "Epoch 18: val_loss improved from 1.79240 to 1.77034, saving model to saved_models/audio_classification_03:44:50.hdf5\n",
            "25/25 [==============================] - 1s 23ms/step - loss: 1.9300 - accuracy: 0.2845 - val_loss: 1.7703 - val_accuracy: 0.3400\n",
            "Epoch 19/100\n",
            "25/25 [==============================] - ETA: 0s - loss: 1.8577 - accuracy: 0.3033\n",
            "Epoch 19: val_loss improved from 1.77034 to 1.73376, saving model to saved_models/audio_classification_03:44:50.hdf5\n",
            "25/25 [==============================] - 1s 26ms/step - loss: 1.8577 - accuracy: 0.3033 - val_loss: 1.7338 - val_accuracy: 0.2950\n",
            "Epoch 20/100\n",
            "23/25 [==========================>...] - ETA: 0s - loss: 1.7884 - accuracy: 0.3261\n",
            "Epoch 20: val_loss improved from 1.73376 to 1.72278, saving model to saved_models/audio_classification_03:44:50.hdf5\n",
            "25/25 [==============================] - 1s 25ms/step - loss: 1.7870 - accuracy: 0.3258 - val_loss: 1.7228 - val_accuracy: 0.3500\n",
            "Epoch 21/100\n",
            "24/25 [===========================>..] - ETA: 0s - loss: 1.8133 - accuracy: 0.3555\n",
            "Epoch 21: val_loss improved from 1.72278 to 1.69391, saving model to saved_models/audio_classification_03:44:50.hdf5\n",
            "25/25 [==============================] - 1s 26ms/step - loss: 1.8048 - accuracy: 0.3571 - val_loss: 1.6939 - val_accuracy: 0.3400\n",
            "Epoch 22/100\n",
            "25/25 [==============================] - ETA: 0s - loss: 1.8130 - accuracy: 0.3170\n",
            "Epoch 22: val_loss did not improve from 1.69391\n",
            "25/25 [==============================] - 0s 16ms/step - loss: 1.8130 - accuracy: 0.3170 - val_loss: 1.7060 - val_accuracy: 0.3000\n",
            "Epoch 23/100\n",
            "25/25 [==============================] - ETA: 0s - loss: 1.7426 - accuracy: 0.3571\n",
            "Epoch 23: val_loss improved from 1.69391 to 1.66925, saving model to saved_models/audio_classification_03:44:50.hdf5\n",
            "25/25 [==============================] - 1s 24ms/step - loss: 1.7426 - accuracy: 0.3571 - val_loss: 1.6693 - val_accuracy: 0.4000\n",
            "Epoch 24/100\n",
            "25/25 [==============================] - ETA: 0s - loss: 1.7848 - accuracy: 0.3283\n",
            "Epoch 24: val_loss did not improve from 1.66925\n",
            "25/25 [==============================] - 1s 23ms/step - loss: 1.7848 - accuracy: 0.3283 - val_loss: 1.6853 - val_accuracy: 0.3750\n",
            "Epoch 25/100\n",
            "24/25 [===========================>..] - ETA: 0s - loss: 1.7221 - accuracy: 0.3516\n",
            "Epoch 25: val_loss improved from 1.66925 to 1.63710, saving model to saved_models/audio_classification_03:44:50.hdf5\n",
            "25/25 [==============================] - 1s 23ms/step - loss: 1.7291 - accuracy: 0.3484 - val_loss: 1.6371 - val_accuracy: 0.4100\n",
            "Epoch 26/100\n",
            "25/25 [==============================] - ETA: 0s - loss: 1.7123 - accuracy: 0.3546\n",
            "Epoch 26: val_loss did not improve from 1.63710\n",
            "25/25 [==============================] - 0s 18ms/step - loss: 1.7123 - accuracy: 0.3546 - val_loss: 1.6594 - val_accuracy: 0.3700\n",
            "Epoch 27/100\n",
            "25/25 [==============================] - ETA: 0s - loss: 1.7765 - accuracy: 0.3734\n",
            "Epoch 27: val_loss did not improve from 1.63710\n",
            "25/25 [==============================] - 1s 25ms/step - loss: 1.7765 - accuracy: 0.3734 - val_loss: 1.6717 - val_accuracy: 0.3900\n",
            "Epoch 28/100\n",
            "25/25 [==============================] - ETA: 0s - loss: 1.7034 - accuracy: 0.3722\n",
            "Epoch 28: val_loss improved from 1.63710 to 1.59081, saving model to saved_models/audio_classification_03:44:50.hdf5\n",
            "25/25 [==============================] - 1s 29ms/step - loss: 1.7034 - accuracy: 0.3722 - val_loss: 1.5908 - val_accuracy: 0.3900\n",
            "Epoch 29/100\n",
            "24/25 [===========================>..] - ETA: 0s - loss: 1.6719 - accuracy: 0.3802\n",
            "Epoch 29: val_loss improved from 1.59081 to 1.57798, saving model to saved_models/audio_classification_03:44:50.hdf5\n",
            "25/25 [==============================] - 1s 36ms/step - loss: 1.6708 - accuracy: 0.3797 - val_loss: 1.5780 - val_accuracy: 0.4050\n",
            "Epoch 30/100\n",
            "24/25 [===========================>..] - ETA: 0s - loss: 1.6350 - accuracy: 0.3815\n",
            "Epoch 30: val_loss did not improve from 1.57798\n",
            "25/25 [==============================] - 1s 28ms/step - loss: 1.6334 - accuracy: 0.3835 - val_loss: 1.5870 - val_accuracy: 0.4250\n",
            "Epoch 31/100\n",
            "23/25 [==========================>...] - ETA: 0s - loss: 1.6621 - accuracy: 0.3764\n",
            "Epoch 31: val_loss did not improve from 1.57798\n",
            "25/25 [==============================] - 1s 28ms/step - loss: 1.6511 - accuracy: 0.3810 - val_loss: 1.6011 - val_accuracy: 0.4450\n",
            "Epoch 32/100\n",
            "24/25 [===========================>..] - ETA: 0s - loss: 1.6112 - accuracy: 0.3919\n",
            "Epoch 32: val_loss did not improve from 1.57798\n",
            "25/25 [==============================] - 1s 24ms/step - loss: 1.5984 - accuracy: 0.3960 - val_loss: 1.6718 - val_accuracy: 0.4200\n",
            "Epoch 33/100\n",
            "23/25 [==========================>...] - ETA: 0s - loss: 1.6189 - accuracy: 0.3859\n",
            "Epoch 33: val_loss did not improve from 1.57798\n",
            "25/25 [==============================] - 1s 29ms/step - loss: 1.6185 - accuracy: 0.3847 - val_loss: 1.6296 - val_accuracy: 0.3900\n",
            "Epoch 34/100\n",
            "23/25 [==========================>...] - ETA: 0s - loss: 1.5960 - accuracy: 0.3709\n",
            "Epoch 34: val_loss did not improve from 1.57798\n",
            "25/25 [==============================] - 1s 29ms/step - loss: 1.5873 - accuracy: 0.3772 - val_loss: 1.6063 - val_accuracy: 0.4350\n",
            "Epoch 35/100\n",
            "24/25 [===========================>..] - ETA: 0s - loss: 1.5862 - accuracy: 0.4193\n",
            "Epoch 35: val_loss improved from 1.57798 to 1.56760, saving model to saved_models/audio_classification_03:44:50.hdf5\n",
            "25/25 [==============================] - 1s 22ms/step - loss: 1.5834 - accuracy: 0.4198 - val_loss: 1.5676 - val_accuracy: 0.4200\n",
            "Epoch 36/100\n",
            "25/25 [==============================] - ETA: 0s - loss: 1.5814 - accuracy: 0.3960\n",
            "Epoch 36: val_loss did not improve from 1.56760\n",
            "25/25 [==============================] - 1s 22ms/step - loss: 1.5814 - accuracy: 0.3960 - val_loss: 1.6231 - val_accuracy: 0.4100\n",
            "Epoch 37/100\n",
            "25/25 [==============================] - ETA: 0s - loss: 1.5533 - accuracy: 0.4311\n",
            "Epoch 37: val_loss improved from 1.56760 to 1.53846, saving model to saved_models/audio_classification_03:44:50.hdf5\n",
            "25/25 [==============================] - 1s 27ms/step - loss: 1.5533 - accuracy: 0.4311 - val_loss: 1.5385 - val_accuracy: 0.4450\n",
            "Epoch 38/100\n",
            "25/25 [==============================] - ETA: 0s - loss: 1.5551 - accuracy: 0.4411\n",
            "Epoch 38: val_loss improved from 1.53846 to 1.53358, saving model to saved_models/audio_classification_03:44:50.hdf5\n",
            "25/25 [==============================] - 1s 21ms/step - loss: 1.5551 - accuracy: 0.4411 - val_loss: 1.5336 - val_accuracy: 0.4300\n",
            "Epoch 39/100\n",
            "25/25 [==============================] - ETA: 0s - loss: 1.5185 - accuracy: 0.4511\n",
            "Epoch 39: val_loss improved from 1.53358 to 1.49576, saving model to saved_models/audio_classification_03:44:50.hdf5\n",
            "25/25 [==============================] - 1s 21ms/step - loss: 1.5185 - accuracy: 0.4511 - val_loss: 1.4958 - val_accuracy: 0.4400\n",
            "Epoch 40/100\n",
            "25/25 [==============================] - ETA: 0s - loss: 1.4434 - accuracy: 0.4825\n",
            "Epoch 40: val_loss did not improve from 1.49576\n",
            "25/25 [==============================] - 1s 22ms/step - loss: 1.4434 - accuracy: 0.4825 - val_loss: 1.5647 - val_accuracy: 0.4200\n",
            "Epoch 41/100\n",
            "25/25 [==============================] - ETA: 0s - loss: 1.4509 - accuracy: 0.4549\n",
            "Epoch 41: val_loss did not improve from 1.49576\n",
            "25/25 [==============================] - 1s 22ms/step - loss: 1.4509 - accuracy: 0.4549 - val_loss: 1.5274 - val_accuracy: 0.4500\n",
            "Epoch 42/100\n",
            "25/25 [==============================] - ETA: 0s - loss: 1.4858 - accuracy: 0.4511\n",
            "Epoch 42: val_loss did not improve from 1.49576\n",
            "25/25 [==============================] - 1s 21ms/step - loss: 1.4858 - accuracy: 0.4511 - val_loss: 1.5722 - val_accuracy: 0.4650\n",
            "Epoch 43/100\n",
            "25/25 [==============================] - ETA: 0s - loss: 1.4303 - accuracy: 0.4749\n",
            "Epoch 43: val_loss did not improve from 1.49576\n",
            "25/25 [==============================] - 1s 21ms/step - loss: 1.4303 - accuracy: 0.4749 - val_loss: 1.5750 - val_accuracy: 0.4450\n",
            "Epoch 44/100\n",
            "25/25 [==============================] - ETA: 0s - loss: 1.4123 - accuracy: 0.4812\n",
            "Epoch 44: val_loss improved from 1.49576 to 1.49305, saving model to saved_models/audio_classification_03:44:50.hdf5\n",
            "25/25 [==============================] - 1s 26ms/step - loss: 1.4123 - accuracy: 0.4812 - val_loss: 1.4930 - val_accuracy: 0.4600\n",
            "Epoch 45/100\n",
            "25/25 [==============================] - ETA: 0s - loss: 1.3517 - accuracy: 0.4987\n",
            "Epoch 45: val_loss improved from 1.49305 to 1.44236, saving model to saved_models/audio_classification_03:44:50.hdf5\n",
            "25/25 [==============================] - 1s 27ms/step - loss: 1.3517 - accuracy: 0.4987 - val_loss: 1.4424 - val_accuracy: 0.5000\n",
            "Epoch 46/100\n",
            "23/25 [==========================>...] - ETA: 0s - loss: 1.4096 - accuracy: 0.4918\n",
            "Epoch 46: val_loss did not improve from 1.44236\n",
            "25/25 [==============================] - 1s 21ms/step - loss: 1.4067 - accuracy: 0.4975 - val_loss: 1.5172 - val_accuracy: 0.4350\n",
            "Epoch 47/100\n",
            "25/25 [==============================] - ETA: 0s - loss: 1.3675 - accuracy: 0.5175\n",
            "Epoch 47: val_loss did not improve from 1.44236\n",
            "25/25 [==============================] - 0s 18ms/step - loss: 1.3675 - accuracy: 0.5175 - val_loss: 1.5516 - val_accuracy: 0.4700\n",
            "Epoch 48/100\n",
            "24/25 [===========================>..] - ETA: 0s - loss: 1.3256 - accuracy: 0.5013\n",
            "Epoch 48: val_loss did not improve from 1.44236\n",
            "25/25 [==============================] - 0s 18ms/step - loss: 1.3280 - accuracy: 0.4987 - val_loss: 1.5458 - val_accuracy: 0.5200\n",
            "Epoch 49/100\n",
            "24/25 [===========================>..] - ETA: 0s - loss: 1.3185 - accuracy: 0.5260\n",
            "Epoch 49: val_loss did not improve from 1.44236\n",
            "25/25 [==============================] - 1s 23ms/step - loss: 1.3256 - accuracy: 0.5226 - val_loss: 1.5561 - val_accuracy: 0.4800\n",
            "Epoch 50/100\n",
            "25/25 [==============================] - ETA: 0s - loss: 1.3331 - accuracy: 0.4962\n",
            "Epoch 50: val_loss did not improve from 1.44236\n",
            "25/25 [==============================] - 1s 21ms/step - loss: 1.3331 - accuracy: 0.4962 - val_loss: 1.5050 - val_accuracy: 0.5000\n",
            "Epoch 51/100\n",
            "25/25 [==============================] - ETA: 0s - loss: 1.3308 - accuracy: 0.5276\n",
            "Epoch 51: val_loss did not improve from 1.44236\n",
            "25/25 [==============================] - 1s 22ms/step - loss: 1.3308 - accuracy: 0.5276 - val_loss: 1.6480 - val_accuracy: 0.3950\n",
            "Epoch 52/100\n",
            "25/25 [==============================] - ETA: 0s - loss: 1.3192 - accuracy: 0.5088\n",
            "Epoch 52: val_loss did not improve from 1.44236\n",
            "25/25 [==============================] - 1s 22ms/step - loss: 1.3192 - accuracy: 0.5088 - val_loss: 1.5123 - val_accuracy: 0.4850\n",
            "Epoch 53/100\n",
            "24/25 [===========================>..] - ETA: 0s - loss: 1.2854 - accuracy: 0.5247\n",
            "Epoch 53: val_loss did not improve from 1.44236\n",
            "25/25 [==============================] - 1s 30ms/step - loss: 1.2804 - accuracy: 0.5238 - val_loss: 1.4904 - val_accuracy: 0.5100\n",
            "Epoch 54/100\n",
            "23/25 [==========================>...] - ETA: 0s - loss: 1.3040 - accuracy: 0.5489\n",
            "Epoch 54: val_loss did not improve from 1.44236\n",
            "25/25 [==============================] - 1s 24ms/step - loss: 1.2912 - accuracy: 0.5564 - val_loss: 1.4889 - val_accuracy: 0.4900\n",
            "Epoch 55/100\n",
            "24/25 [===========================>..] - ETA: 0s - loss: 1.2120 - accuracy: 0.5326\n",
            "Epoch 55: val_loss did not improve from 1.44236\n",
            "25/25 [==============================] - 1s 24ms/step - loss: 1.2089 - accuracy: 0.5313 - val_loss: 1.5292 - val_accuracy: 0.4950\n",
            "Epoch 56/100\n",
            "24/25 [===========================>..] - ETA: 0s - loss: 1.1873 - accuracy: 0.5612\n",
            "Epoch 56: val_loss did not improve from 1.44236\n",
            "25/25 [==============================] - 1s 24ms/step - loss: 1.1918 - accuracy: 0.5602 - val_loss: 1.4983 - val_accuracy: 0.5400\n",
            "Epoch 57/100\n",
            "25/25 [==============================] - ETA: 0s - loss: 1.1841 - accuracy: 0.5764\n",
            "Epoch 57: val_loss did not improve from 1.44236\n",
            "25/25 [==============================] - 1s 27ms/step - loss: 1.1841 - accuracy: 0.5764 - val_loss: 1.5378 - val_accuracy: 0.5200\n",
            "Epoch 58/100\n",
            "24/25 [===========================>..] - ETA: 0s - loss: 1.2298 - accuracy: 0.5638\n",
            "Epoch 58: val_loss did not improve from 1.44236\n",
            "25/25 [==============================] - 1s 33ms/step - loss: 1.2335 - accuracy: 0.5589 - val_loss: 1.4859 - val_accuracy: 0.4750\n",
            "Epoch 59/100\n",
            "24/25 [===========================>..] - ETA: 0s - loss: 1.1757 - accuracy: 0.5768\n",
            "Epoch 59: val_loss did not improve from 1.44236\n",
            "25/25 [==============================] - 1s 30ms/step - loss: 1.1781 - accuracy: 0.5764 - val_loss: 1.4446 - val_accuracy: 0.5250\n",
            "Epoch 60/100\n",
            "25/25 [==============================] - ETA: 0s - loss: 1.1704 - accuracy: 0.5852\n",
            "Epoch 60: val_loss did not improve from 1.44236\n",
            "25/25 [==============================] - 1s 31ms/step - loss: 1.1704 - accuracy: 0.5852 - val_loss: 1.5521 - val_accuracy: 0.5350\n",
            "Epoch 61/100\n",
            "25/25 [==============================] - ETA: 0s - loss: 1.1674 - accuracy: 0.5764\n",
            "Epoch 61: val_loss did not improve from 1.44236\n",
            "25/25 [==============================] - 1s 26ms/step - loss: 1.1674 - accuracy: 0.5764 - val_loss: 1.4854 - val_accuracy: 0.5100\n",
            "Epoch 62/100\n",
            "25/25 [==============================] - ETA: 0s - loss: 1.0738 - accuracy: 0.6140\n",
            "Epoch 62: val_loss did not improve from 1.44236\n",
            "25/25 [==============================] - 1s 22ms/step - loss: 1.0738 - accuracy: 0.6140 - val_loss: 1.4826 - val_accuracy: 0.5500\n",
            "Epoch 63/100\n",
            "25/25 [==============================] - ETA: 0s - loss: 1.1297 - accuracy: 0.5940\n",
            "Epoch 63: val_loss improved from 1.44236 to 1.43117, saving model to saved_models/audio_classification_03:44:50.hdf5\n",
            "25/25 [==============================] - 1s 42ms/step - loss: 1.1297 - accuracy: 0.5940 - val_loss: 1.4312 - val_accuracy: 0.5600\n",
            "Epoch 64/100\n",
            "24/25 [===========================>..] - ETA: 0s - loss: 1.1299 - accuracy: 0.5977\n",
            "Epoch 64: val_loss did not improve from 1.43117\n",
            "25/25 [==============================] - 1s 22ms/step - loss: 1.1283 - accuracy: 0.5977 - val_loss: 1.4465 - val_accuracy: 0.5350\n",
            "Epoch 65/100\n",
            "25/25 [==============================] - ETA: 0s - loss: 1.0762 - accuracy: 0.6003\n",
            "Epoch 65: val_loss did not improve from 1.43117\n",
            "25/25 [==============================] - 1s 22ms/step - loss: 1.0762 - accuracy: 0.6003 - val_loss: 1.4369 - val_accuracy: 0.5400\n",
            "Epoch 66/100\n",
            "24/25 [===========================>..] - ETA: 0s - loss: 1.0328 - accuracy: 0.6315\n",
            "Epoch 66: val_loss did not improve from 1.43117\n",
            "25/25 [==============================] - 1s 24ms/step - loss: 1.0417 - accuracy: 0.6291 - val_loss: 1.5396 - val_accuracy: 0.4850\n",
            "Epoch 67/100\n",
            "25/25 [==============================] - ETA: 0s - loss: 1.0239 - accuracy: 0.6366\n",
            "Epoch 67: val_loss did not improve from 1.43117\n",
            "25/25 [==============================] - 1s 22ms/step - loss: 1.0239 - accuracy: 0.6366 - val_loss: 1.4397 - val_accuracy: 0.5650\n",
            "Epoch 68/100\n",
            "25/25 [==============================] - ETA: 0s - loss: 1.0442 - accuracy: 0.6266\n",
            "Epoch 68: val_loss did not improve from 1.43117\n",
            "25/25 [==============================] - 1s 23ms/step - loss: 1.0442 - accuracy: 0.6266 - val_loss: 1.4700 - val_accuracy: 0.5300\n",
            "Epoch 69/100\n",
            "23/25 [==========================>...] - ETA: 0s - loss: 0.9880 - accuracy: 0.6440\n",
            "Epoch 69: val_loss improved from 1.43117 to 1.41244, saving model to saved_models/audio_classification_03:44:50.hdf5\n",
            "25/25 [==============================] - 1s 24ms/step - loss: 1.0328 - accuracy: 0.6341 - val_loss: 1.4124 - val_accuracy: 0.5450\n",
            "Epoch 70/100\n",
            "24/25 [===========================>..] - ETA: 0s - loss: 1.0501 - accuracy: 0.6055\n",
            "Epoch 70: val_loss did not improve from 1.41244\n",
            "25/25 [==============================] - 0s 19ms/step - loss: 1.0602 - accuracy: 0.6078 - val_loss: 1.5496 - val_accuracy: 0.4950\n",
            "Epoch 71/100\n",
            "25/25 [==============================] - ETA: 0s - loss: 1.1312 - accuracy: 0.6003\n",
            "Epoch 71: val_loss did not improve from 1.41244\n",
            "25/25 [==============================] - 1s 23ms/step - loss: 1.1312 - accuracy: 0.6003 - val_loss: 1.4497 - val_accuracy: 0.5400\n",
            "Epoch 72/100\n",
            "25/25 [==============================] - ETA: 0s - loss: 1.0099 - accuracy: 0.6429\n",
            "Epoch 72: val_loss did not improve from 1.41244\n",
            "25/25 [==============================] - 1s 22ms/step - loss: 1.0099 - accuracy: 0.6429 - val_loss: 1.6046 - val_accuracy: 0.5450\n",
            "Epoch 73/100\n",
            "24/25 [===========================>..] - ETA: 0s - loss: 0.9363 - accuracy: 0.6471\n",
            "Epoch 73: val_loss did not improve from 1.41244\n",
            "25/25 [==============================] - 0s 19ms/step - loss: 0.9301 - accuracy: 0.6504 - val_loss: 1.7044 - val_accuracy: 0.5250\n",
            "Epoch 74/100\n",
            "23/25 [==========================>...] - ETA: 0s - loss: 1.0750 - accuracy: 0.6495\n",
            "Epoch 74: val_loss did not improve from 1.41244\n",
            "25/25 [==============================] - 0s 17ms/step - loss: 1.0570 - accuracy: 0.6516 - val_loss: 1.4802 - val_accuracy: 0.5450\n",
            "Epoch 75/100\n",
            "25/25 [==============================] - ETA: 0s - loss: 0.9567 - accuracy: 0.6617\n",
            "Epoch 75: val_loss did not improve from 1.41244\n",
            "25/25 [==============================] - 0s 17ms/step - loss: 0.9567 - accuracy: 0.6617 - val_loss: 1.6358 - val_accuracy: 0.5700\n",
            "Epoch 76/100\n",
            "25/25 [==============================] - ETA: 0s - loss: 0.9612 - accuracy: 0.6767\n",
            "Epoch 76: val_loss did not improve from 1.41244\n",
            "25/25 [==============================] - 0s 17ms/step - loss: 0.9612 - accuracy: 0.6767 - val_loss: 1.5613 - val_accuracy: 0.5350\n",
            "Epoch 77/100\n",
            "25/25 [==============================] - ETA: 0s - loss: 0.9755 - accuracy: 0.6479\n",
            "Epoch 77: val_loss did not improve from 1.41244\n",
            "25/25 [==============================] - 0s 17ms/step - loss: 0.9755 - accuracy: 0.6479 - val_loss: 1.6054 - val_accuracy: 0.5600\n",
            "Epoch 78/100\n",
            "25/25 [==============================] - ETA: 0s - loss: 0.9520 - accuracy: 0.6742\n",
            "Epoch 78: val_loss did not improve from 1.41244\n",
            "25/25 [==============================] - 0s 17ms/step - loss: 0.9520 - accuracy: 0.6742 - val_loss: 1.5136 - val_accuracy: 0.6000\n",
            "Epoch 79/100\n",
            "24/25 [===========================>..] - ETA: 0s - loss: 0.8960 - accuracy: 0.6836\n",
            "Epoch 79: val_loss did not improve from 1.41244\n",
            "25/25 [==============================] - 0s 20ms/step - loss: 0.9104 - accuracy: 0.6767 - val_loss: 1.5171 - val_accuracy: 0.5700\n",
            "Epoch 80/100\n",
            "24/25 [===========================>..] - ETA: 0s - loss: 0.8715 - accuracy: 0.6966\n",
            "Epoch 80: val_loss did not improve from 1.41244\n",
            "25/25 [==============================] - 1s 31ms/step - loss: 0.8771 - accuracy: 0.6955 - val_loss: 1.7934 - val_accuracy: 0.5450\n",
            "Epoch 81/100\n",
            "25/25 [==============================] - ETA: 0s - loss: 0.9183 - accuracy: 0.6867\n",
            "Epoch 81: val_loss did not improve from 1.41244\n",
            "25/25 [==============================] - 1s 29ms/step - loss: 0.9183 - accuracy: 0.6867 - val_loss: 1.4838 - val_accuracy: 0.5800\n",
            "Epoch 82/100\n",
            "24/25 [===========================>..] - ETA: 0s - loss: 0.8583 - accuracy: 0.7044\n",
            "Epoch 82: val_loss did not improve from 1.41244\n",
            "25/25 [==============================] - 1s 41ms/step - loss: 0.8488 - accuracy: 0.7080 - val_loss: 1.5289 - val_accuracy: 0.5800\n",
            "Epoch 83/100\n",
            "25/25 [==============================] - ETA: 0s - loss: 0.8512 - accuracy: 0.7118\n",
            "Epoch 83: val_loss did not improve from 1.41244\n",
            "25/25 [==============================] - 1s 31ms/step - loss: 0.8512 - accuracy: 0.7118 - val_loss: 1.6490 - val_accuracy: 0.5900\n",
            "Epoch 84/100\n",
            "25/25 [==============================] - ETA: 0s - loss: 0.8205 - accuracy: 0.7306\n",
            "Epoch 84: val_loss did not improve from 1.41244\n",
            "25/25 [==============================] - 1s 25ms/step - loss: 0.8205 - accuracy: 0.7306 - val_loss: 1.7061 - val_accuracy: 0.5350\n",
            "Epoch 85/100\n",
            "25/25 [==============================] - ETA: 0s - loss: 0.8020 - accuracy: 0.7218\n",
            "Epoch 85: val_loss did not improve from 1.41244\n",
            "25/25 [==============================] - 1s 28ms/step - loss: 0.8020 - accuracy: 0.7218 - val_loss: 1.5945 - val_accuracy: 0.6150\n",
            "Epoch 86/100\n",
            "25/25 [==============================] - ETA: 0s - loss: 0.8544 - accuracy: 0.7143\n",
            "Epoch 86: val_loss did not improve from 1.41244\n",
            "25/25 [==============================] - 1s 29ms/step - loss: 0.8544 - accuracy: 0.7143 - val_loss: 1.6484 - val_accuracy: 0.5900\n",
            "Epoch 87/100\n",
            "24/25 [===========================>..] - ETA: 0s - loss: 0.8077 - accuracy: 0.7435\n",
            "Epoch 87: val_loss did not improve from 1.41244\n",
            "25/25 [==============================] - 1s 30ms/step - loss: 0.8048 - accuracy: 0.7456 - val_loss: 1.4519 - val_accuracy: 0.6050\n",
            "Epoch 88/100\n",
            "24/25 [===========================>..] - ETA: 0s - loss: 0.8136 - accuracy: 0.7253\n",
            "Epoch 88: val_loss did not improve from 1.41244\n",
            "25/25 [==============================] - 1s 20ms/step - loss: 0.8283 - accuracy: 0.7168 - val_loss: 1.4956 - val_accuracy: 0.5950\n",
            "Epoch 89/100\n",
            "24/25 [===========================>..] - ETA: 0s - loss: 0.7603 - accuracy: 0.7539\n",
            "Epoch 89: val_loss did not improve from 1.41244\n",
            "25/25 [==============================] - 0s 19ms/step - loss: 0.7692 - accuracy: 0.7531 - val_loss: 1.6260 - val_accuracy: 0.5900\n",
            "Epoch 90/100\n",
            "25/25 [==============================] - ETA: 0s - loss: 0.7741 - accuracy: 0.7419\n",
            "Epoch 90: val_loss did not improve from 1.41244\n",
            "25/25 [==============================] - 0s 17ms/step - loss: 0.7741 - accuracy: 0.7419 - val_loss: 1.6566 - val_accuracy: 0.5400\n",
            "Epoch 91/100\n",
            "25/25 [==============================] - ETA: 0s - loss: 0.7612 - accuracy: 0.7419\n",
            "Epoch 91: val_loss did not improve from 1.41244\n",
            "25/25 [==============================] - 0s 19ms/step - loss: 0.7612 - accuracy: 0.7419 - val_loss: 1.6096 - val_accuracy: 0.5500\n",
            "Epoch 92/100\n",
            "25/25 [==============================] - ETA: 0s - loss: 0.7692 - accuracy: 0.7569\n",
            "Epoch 92: val_loss did not improve from 1.41244\n",
            "25/25 [==============================] - 1s 23ms/step - loss: 0.7692 - accuracy: 0.7569 - val_loss: 1.6248 - val_accuracy: 0.5750\n",
            "Epoch 93/100\n",
            "25/25 [==============================] - ETA: 0s - loss: 0.7987 - accuracy: 0.7268\n",
            "Epoch 93: val_loss did not improve from 1.41244\n",
            "25/25 [==============================] - 1s 22ms/step - loss: 0.7987 - accuracy: 0.7268 - val_loss: 1.8948 - val_accuracy: 0.5900\n",
            "Epoch 94/100\n",
            "25/25 [==============================] - ETA: 0s - loss: 0.9147 - accuracy: 0.7293\n",
            "Epoch 94: val_loss did not improve from 1.41244\n",
            "25/25 [==============================] - 1s 22ms/step - loss: 0.9147 - accuracy: 0.7293 - val_loss: 1.6629 - val_accuracy: 0.5800\n",
            "Epoch 95/100\n",
            "25/25 [==============================] - ETA: 0s - loss: 0.7796 - accuracy: 0.7506\n",
            "Epoch 95: val_loss did not improve from 1.41244\n",
            "25/25 [==============================] - 1s 24ms/step - loss: 0.7796 - accuracy: 0.7506 - val_loss: 1.5366 - val_accuracy: 0.6100\n",
            "Epoch 96/100\n",
            "25/25 [==============================] - ETA: 0s - loss: 0.6835 - accuracy: 0.7694\n",
            "Epoch 96: val_loss did not improve from 1.41244\n",
            "25/25 [==============================] - 1s 23ms/step - loss: 0.6835 - accuracy: 0.7694 - val_loss: 1.7906 - val_accuracy: 0.5800\n",
            "Epoch 97/100\n",
            "24/25 [===========================>..] - ETA: 0s - loss: 0.7325 - accuracy: 0.7643\n",
            "Epoch 97: val_loss did not improve from 1.41244\n",
            "25/25 [==============================] - 1s 22ms/step - loss: 0.7234 - accuracy: 0.7694 - val_loss: 1.6729 - val_accuracy: 0.5400\n",
            "Epoch 98/100\n",
            "25/25 [==============================] - ETA: 0s - loss: 0.6918 - accuracy: 0.7544\n",
            "Epoch 98: val_loss did not improve from 1.41244\n",
            "25/25 [==============================] - 1s 22ms/step - loss: 0.6918 - accuracy: 0.7544 - val_loss: 1.7522 - val_accuracy: 0.5700\n",
            "Epoch 99/100\n",
            "25/25 [==============================] - ETA: 0s - loss: 0.7314 - accuracy: 0.7544\n",
            "Epoch 99: val_loss did not improve from 1.41244\n",
            "25/25 [==============================] - 1s 23ms/step - loss: 0.7314 - accuracy: 0.7544 - val_loss: 1.7799 - val_accuracy: 0.5800\n",
            "Epoch 100/100\n",
            "22/25 [=========================>....] - ETA: 0s - loss: 0.6962 - accuracy: 0.7812\n",
            "Epoch 100: val_loss did not improve from 1.41244\n",
            "25/25 [==============================] - 1s 23ms/step - loss: 0.6976 - accuracy: 0.7769 - val_loss: 1.6621 - val_accuracy: 0.5800\n",
            "Training completed in time:  0:01:24.032721\n"
          ]
        }
      ]
    },
    {
      "cell_type": "markdown",
      "source": [
        "##Evaluating the loss and the accurcy of the model:\n",
        "  `Output-> [loss,accuracy]`  "
      ],
      "metadata": {
        "id": "m4qYIEWU5Pwx"
      }
    },
    {
      "cell_type": "code",
      "source": [
        "model.evaluate(X_test, y_test, verbose=0)"
      ],
      "metadata": {
        "colab": {
          "base_uri": "https://localhost:8080/"
        },
        "id": "93YXCqqGhSEc",
        "outputId": "c9cdf243-1938-443c-f4eb-773869dd8039"
      },
      "execution_count": null,
      "outputs": [
        {
          "output_type": "execute_result",
          "data": {
            "text/plain": [
              "[1.6620843410491943, 0.5799999833106995]"
            ]
          },
          "metadata": {},
          "execution_count": 26
        }
      ]
    },
    {
      "cell_type": "code",
      "source": [
        "pd.DataFrame(history.history).plot(figsize=(12,6))\n",
        "plt.show()"
      ],
      "metadata": {
        "colab": {
          "base_uri": "https://localhost:8080/",
          "height": 522
        },
        "id": "befM_brihYNM",
        "outputId": "b67ac361-8625-4839-ecde-24b495dc6c26"
      },
      "execution_count": null,
      "outputs": [
        {
          "output_type": "display_data",
          "data": {
            "text/plain": [
              "<Figure size 1200x600 with 1 Axes>"
            ],
            "image/png": "[encoded data removed]"
          },
          "metadata": {}
        }
      ]
    },
    {
      "cell_type": "code",
      "source": [
        "filename=\"/content/drive/MyDrive/audio/hiphop.00000.wav\"\n",
        "audio, sample_rate = librosa.load(filename, res_type='kaiser_best')\n",
        "mfccs_features = librosa.feature.mfcc(y=audio, sr=sample_rate, n_mfcc=40)\n",
        "mfccs_scaled_features = np.mean(mfccs_features.T,axis=0)\n",
        "\n",
        "print(mfccs_scaled_features)\n",
        "mfccs_scaled_features=mfccs_scaled_features.reshape(1,-1)\n",
        "print(mfccs_scaled_features)\n",
        "print(mfccs_scaled_features.shape)\n",
        "##predicted_label=model.predict_classes(mfccs_scaled_features)\n",
        "predicted_probabilities = model.predict(mfccs_scaled_features)\n",
        "predicted_label = np.argmax(predicted_probabilities, axis=1)\n",
        "print(predicted_label)\n",
        "prediction_class = labelencoder.inverse_transform(predicted_label)\n",
        "prediction_class"
      ],
      "metadata": {
        "colab": {
          "base_uri": "https://localhost:8080/"
        },
        "id": "jUohJY2bhr7_",
        "outputId": "42fe5d1f-b80c-4bb5-c46f-c44c0b521820"
      },
      "execution_count": null,
      "outputs": [
        {
          "output_type": "stream",
          "name": "stdout",
          "text": [
            "[-8.0934227e+01  8.4780525e+01 -3.1534628e+01  3.3901741e+01\n",
            " -1.9836761e+01  2.3553936e+01 -2.2136858e+01  2.0026501e+01\n",
            " -1.6764809e+01  1.9219479e+01 -1.3098828e+01  1.1502167e+01\n",
            " -1.0718429e+01  1.0579796e+01 -8.4207439e+00  7.3195724e+00\n",
            " -5.3723488e+00  7.6925149e+00 -5.5499210e+00  1.5127792e+00\n",
            " -4.6432471e+00  2.8168759e+00 -2.2038243e+00  1.8381641e+00\n",
            "  4.9952337e-01  1.6207831e+00 -1.5888569e+00 -4.1720856e-02\n",
            "  5.8735186e-01  1.3061397e+00  3.4303790e-01  1.4290801e+00\n",
            "  1.7899964e+00  2.9582553e+00  2.0029953e+00 -4.2653573e-01\n",
            " -8.8033581e-01  6.4885810e-02  1.5727409e+00  1.7429556e+00]\n",
            "[[-8.0934227e+01  8.4780525e+01 -3.1534628e+01  3.3901741e+01\n",
            "  -1.9836761e+01  2.3553936e+01 -2.2136858e+01  2.0026501e+01\n",
            "  -1.6764809e+01  1.9219479e+01 -1.3098828e+01  1.1502167e+01\n",
            "  -1.0718429e+01  1.0579796e+01 -8.4207439e+00  7.3195724e+00\n",
            "  -5.3723488e+00  7.6925149e+00 -5.5499210e+00  1.5127792e+00\n",
            "  -4.6432471e+00  2.8168759e+00 -2.2038243e+00  1.8381641e+00\n",
            "   4.9952337e-01  1.6207831e+00 -1.5888569e+00 -4.1720856e-02\n",
            "   5.8735186e-01  1.3061397e+00  3.4303790e-01  1.4290801e+00\n",
            "   1.7899964e+00  2.9582553e+00  2.0029953e+00 -4.2653573e-01\n",
            "  -8.8033581e-01  6.4885810e-02  1.5727409e+00  1.7429556e+00]]\n",
            "(1, 40)\n",
            "1/1 [==============================] - 0s 33ms/step\n",
            "[4]\n"
          ]
        },
        {
          "output_type": "execute_result",
          "data": {
            "text/plain": [
              "array(['hiphop'], dtype='<U9')"
            ]
          },
          "metadata": {},
          "execution_count": 37
        }
      ]
    }
  ]
}